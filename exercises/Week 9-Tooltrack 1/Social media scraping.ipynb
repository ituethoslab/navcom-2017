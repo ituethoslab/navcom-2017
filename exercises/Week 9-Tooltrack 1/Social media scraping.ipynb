{
 "cells": [
  {
   "cell_type": "markdown",
   "metadata": {},
   "source": [
    "# Social media scraping\n",
    "\n",
    "This 3-week tooltrack is about extracting data from Facebook. We will familiarize ourselves with [NetVizz](https://apps.facebook.com/netvizz/) and additionally [facebook-scraper](https://github.com/bacilo/facebook-scraper/tree/incorporate), a tool built by Pedro here at ITU."
   ]
  },
  {
   "cell_type": "markdown",
   "metadata": {},
   "source": [
    "## 1 Data extraction\n",
    "\n",
    "### 1.1 Netvizz\n",
    "\n",
    "Netvizz is a Facebook application, with a server provided by [Digital Methods Initiative](https://www.digitalmethods.net/), at University of Amsterdam (makers of TCAT). The paper *Studying Facebook via Data Extraction: The Netvizz Application* (WebSci'13) by the developer Bernhart Rieder describes the fundamentals, and theoretical and methodological background.\n",
    "\n",
    "The tool provides several modules for extraction. We will use *group data*, *page data* and *page like network* modules.\n",
    "\n",
    "### 1.2 Facebook scraper\n",
    "\n",
    "The Facebook scraper affords a somewhat different mode of enquiry, a little closer to the tool and the medium itself. It does not really seem to have a name yet."
   ]
  },
  {
   "cell_type": "markdown",
   "metadata": {},
   "source": [
    "## 2. Data analysis\n",
    "\n",
    "We will use our familiar Gephi and Tableau to explore and analyse the data extracted. You can use other tools too."
   ]
  }
 ],
 "metadata": {
  "kernelspec": {
   "display_name": "Python 3",
   "language": "python",
   "name": "python3"
  },
  "language_info": {
   "codemirror_mode": {
    "name": "ipython",
    "version": 3
   },
   "file_extension": ".py",
   "mimetype": "text/x-python",
   "name": "python",
   "nbconvert_exporter": "python",
   "pygments_lexer": "ipython3",
   "version": "3.6.2"
  }
 },
 "nbformat": 4,
 "nbformat_minor": 2
}
