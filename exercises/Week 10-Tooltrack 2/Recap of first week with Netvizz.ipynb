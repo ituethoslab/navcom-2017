{
 "cells": [
  {
   "cell_type": "markdown",
   "metadata": {
    "slideshow": {
     "slide_type": "slide"
    }
   },
   "source": [
    "# Recap of first week with Netvizz"
   ]
  },
  {
   "cell_type": "code",
   "execution_count": 3,
   "metadata": {
    "slideshow": {
     "slide_type": "skip"
    }
   },
   "outputs": [],
   "source": [
    "import os\n",
    "import pandas as pd"
   ]
  },
  {
   "cell_type": "markdown",
   "metadata": {
    "slideshow": {
     "slide_type": "fragment"
    }
   },
   "source": [
    "On first week of the social media scraping tooltrack we used [Netvizz](https://apps.facebook.com/netvizz)."
   ]
  },
  {
   "cell_type": "markdown",
   "metadata": {
    "slideshow": {
     "slide_type": "subslide"
    }
   },
   "source": [
    "It has six different modules\n",
    "\n",
    "* group data\n",
    "* **page data**\n",
    "* page like network\n",
    "* page timeline images\n",
    "* search\n",
    "* link stats"
   ]
  },
  {
   "cell_type": "markdown",
   "metadata": {
    "slideshow": {
     "slide_type": "slide"
    }
   },
   "source": [
    "We received a couple of files for each page. For example:"
   ]
  },
  {
   "cell_type": "code",
   "execution_count": 4,
   "metadata": {
    "slideshow": {
     "slide_type": "skip"
    }
   },
   "outputs": [],
   "source": [
    "ethospagedatadir = \"page_126517697403099_2017_10_31_14_48_28\""
   ]
  },
  {
   "cell_type": "code",
   "execution_count": 5,
   "metadata": {
    "slideshow": {
     "slide_type": "fragment"
    }
   },
   "outputs": [
    {
     "data": {
      "text/plain": [
       "['page_126517697403099_2017_10_31_14_48_28.gdf',\n",
       " 'page_126517697403099_2017_10_31_14_48_28_comments.tab',\n",
       " 'page_126517697403099_2017_10_31_14_48_28_fanspercountry.tab',\n",
       " 'page_126517697403099_2017_10_31_14_48_28_fullstats.tab',\n",
       " 'page_126517697403099_2017_10_31_14_48_28_statsperday.tab']"
      ]
     },
     "execution_count": 5,
     "metadata": {},
     "output_type": "execute_result"
    }
   ],
   "source": [
    "os.listdir(ethospagedatadir)"
   ]
  },
  {
   "cell_type": "markdown",
   "metadata": {
    "slideshow": {
     "slide_type": "slide"
    }
   },
   "source": [
    "And we explored the shape and nature of the data, to see what did we receive from Netvizz."
   ]
  },
  {
   "cell_type": "markdown",
   "metadata": {
    "slideshow": {
     "slide_type": "slide"
    }
   },
   "source": [
    "The `.gdf` graph file data has *nodes*"
   ]
  },
  {
   "cell_type": "code",
   "execution_count": 67,
   "metadata": {
    "slideshow": {
     "slide_type": "skip"
    }
   },
   "outputs": [],
   "source": [
    "ethosg = {'nodes': pd.read_csv(ethospagedatadir + '/' + 'page_126517697403099_2017_10_31_14_48_28.gdf', nrows=416),\n",
    "          'edges': pd.read_csv(ethospagedatadir + '/' + 'page_126517697403099_2017_10_31_14_48_28.gdf', skiprows=417)\n",
    "         }"
   ]
  },
  {
   "cell_type": "code",
   "execution_count": 68,
   "metadata": {
    "slideshow": {
     "slide_type": "fragment"
    }
   },
   "outputs": [
    {
     "data": {
      "text/html": [
       "<div>\n",
       "<style scoped>\n",
       "    .dataframe tbody tr th:only-of-type {\n",
       "        vertical-align: middle;\n",
       "    }\n",
       "\n",
       "    .dataframe tbody tr th {\n",
       "        vertical-align: top;\n",
       "    }\n",
       "\n",
       "    .dataframe thead th {\n",
       "        text-align: right;\n",
       "    }\n",
       "</style>\n",
       "<table border=\"1\" class=\"dataframe\">\n",
       "  <thead>\n",
       "    <tr style=\"text-align: right;\">\n",
       "      <th></th>\n",
       "      <th>nodedef&gt;name VARCHAR</th>\n",
       "      <th>label VARCHAR</th>\n",
       "      <th>type VARCHAR</th>\n",
       "      <th>type_post VARCHAR</th>\n",
       "      <th>like_count INT</th>\n",
       "      <th>comment_count INT</th>\n",
       "      <th>reactions_count INT</th>\n",
       "      <th>engagement INT</th>\n",
       "      <th>post_published VARCHAR</th>\n",
       "      <th>post_published_unix INT</th>\n",
       "      <th>shares INT</th>\n",
       "      <th>post_id VARCHAR</th>\n",
       "      <th>post_link VARCHAR</th>\n",
       "    </tr>\n",
       "  </thead>\n",
       "  <tbody>\n",
       "    <tr>\n",
       "      <th>5ed2d7b34596e1ec2e0c30fa8860d45a25c756d0</th>\n",
       "      <td>aee5080c2c2736359328464ba278dff74c7d020e</td>\n",
       "      <td>user</td>\n",
       "      <td>user</td>\n",
       "      <td>1</td>\n",
       "      <td>0</td>\n",
       "      <td>1</td>\n",
       "      <td>1</td>\n",
       "      <td>NaN</td>\n",
       "      <td>NaN</td>\n",
       "      <td>NaN</td>\n",
       "      <td>NaN</td>\n",
       "      <td>NaN</td>\n",
       "      <td>NaN</td>\n",
       "    </tr>\n",
       "    <tr>\n",
       "      <th>f852e1ea223f213e72099eb4a49438ddfa3c97b0</th>\n",
       "      <td>3d8e9d302eeddd7589a2a73b8e2dfaecea7bf1b4</td>\n",
       "      <td>user</td>\n",
       "      <td>user</td>\n",
       "      <td>1</td>\n",
       "      <td>0</td>\n",
       "      <td>1</td>\n",
       "      <td>1</td>\n",
       "      <td>NaN</td>\n",
       "      <td>NaN</td>\n",
       "      <td>NaN</td>\n",
       "      <td>NaN</td>\n",
       "      <td>NaN</td>\n",
       "      <td>NaN</td>\n",
       "    </tr>\n",
       "    <tr>\n",
       "      <th>b03f84ceb50905e559a365aee6da8c65710cbc9e</th>\n",
       "      <td>Everyone can learn to code! 🙂</td>\n",
       "      <td>post</td>\n",
       "      <td>video</td>\n",
       "      <td>27</td>\n",
       "      <td>0</td>\n",
       "      <td>34</td>\n",
       "      <td>34</td>\n",
       "      <td>2017-08-23T07:35:09+0000</td>\n",
       "      <td>1.503474e+09</td>\n",
       "      <td>0.0</td>\n",
       "      <td>126517697403099_1395602890494567</td>\n",
       "      <td>https://www.facebook.com/bbcnews/videos/101549...</td>\n",
       "      <td>NaN</td>\n",
       "    </tr>\n",
       "  </tbody>\n",
       "</table>\n",
       "</div>"
      ],
      "text/plain": [
       "                                                              nodedef>name VARCHAR  \\\n",
       "5ed2d7b34596e1ec2e0c30fa8860d45a25c756d0  aee5080c2c2736359328464ba278dff74c7d020e   \n",
       "f852e1ea223f213e72099eb4a49438ddfa3c97b0  3d8e9d302eeddd7589a2a73b8e2dfaecea7bf1b4   \n",
       "b03f84ceb50905e559a365aee6da8c65710cbc9e             Everyone can learn to code! 🙂   \n",
       "\n",
       "                                         label VARCHAR type VARCHAR  \\\n",
       "5ed2d7b34596e1ec2e0c30fa8860d45a25c756d0          user         user   \n",
       "f852e1ea223f213e72099eb4a49438ddfa3c97b0          user         user   \n",
       "b03f84ceb50905e559a365aee6da8c65710cbc9e          post        video   \n",
       "\n",
       "                                          type_post VARCHAR  like_count INT  \\\n",
       "5ed2d7b34596e1ec2e0c30fa8860d45a25c756d0                  1               0   \n",
       "f852e1ea223f213e72099eb4a49438ddfa3c97b0                  1               0   \n",
       "b03f84ceb50905e559a365aee6da8c65710cbc9e                 27               0   \n",
       "\n",
       "                                          comment_count INT  \\\n",
       "5ed2d7b34596e1ec2e0c30fa8860d45a25c756d0                  1   \n",
       "f852e1ea223f213e72099eb4a49438ddfa3c97b0                  1   \n",
       "b03f84ceb50905e559a365aee6da8c65710cbc9e                 34   \n",
       "\n",
       "                                          reactions_count INT  \\\n",
       "5ed2d7b34596e1ec2e0c30fa8860d45a25c756d0                    1   \n",
       "f852e1ea223f213e72099eb4a49438ddfa3c97b0                    1   \n",
       "b03f84ceb50905e559a365aee6da8c65710cbc9e                   34   \n",
       "\n",
       "                                                    engagement INT  \\\n",
       "5ed2d7b34596e1ec2e0c30fa8860d45a25c756d0                       NaN   \n",
       "f852e1ea223f213e72099eb4a49438ddfa3c97b0                       NaN   \n",
       "b03f84ceb50905e559a365aee6da8c65710cbc9e  2017-08-23T07:35:09+0000   \n",
       "\n",
       "                                          post_published VARCHAR  \\\n",
       "5ed2d7b34596e1ec2e0c30fa8860d45a25c756d0                     NaN   \n",
       "f852e1ea223f213e72099eb4a49438ddfa3c97b0                     NaN   \n",
       "b03f84ceb50905e559a365aee6da8c65710cbc9e            1.503474e+09   \n",
       "\n",
       "                                          post_published_unix INT  \\\n",
       "5ed2d7b34596e1ec2e0c30fa8860d45a25c756d0                      NaN   \n",
       "f852e1ea223f213e72099eb4a49438ddfa3c97b0                      NaN   \n",
       "b03f84ceb50905e559a365aee6da8c65710cbc9e                      0.0   \n",
       "\n",
       "                                                                shares INT  \\\n",
       "5ed2d7b34596e1ec2e0c30fa8860d45a25c756d0                               NaN   \n",
       "f852e1ea223f213e72099eb4a49438ddfa3c97b0                               NaN   \n",
       "b03f84ceb50905e559a365aee6da8c65710cbc9e  126517697403099_1395602890494567   \n",
       "\n",
       "                                                                            post_id VARCHAR  \\\n",
       "5ed2d7b34596e1ec2e0c30fa8860d45a25c756d0                                                NaN   \n",
       "f852e1ea223f213e72099eb4a49438ddfa3c97b0                                                NaN   \n",
       "b03f84ceb50905e559a365aee6da8c65710cbc9e  https://www.facebook.com/bbcnews/videos/101549...   \n",
       "\n",
       "                                          post_link VARCHAR  \n",
       "5ed2d7b34596e1ec2e0c30fa8860d45a25c756d0                NaN  \n",
       "f852e1ea223f213e72099eb4a49438ddfa3c97b0                NaN  \n",
       "b03f84ceb50905e559a365aee6da8c65710cbc9e                NaN  "
      ]
     },
     "execution_count": 68,
     "metadata": {},
     "output_type": "execute_result"
    }
   ],
   "source": [
    "ethosg['nodes'].sample(3)"
   ]
  },
  {
   "cell_type": "markdown",
   "metadata": {
    "slideshow": {
     "slide_type": "subslide"
    }
   },
   "source": [
    "and *edges* in the same file"
   ]
  },
  {
   "cell_type": "code",
   "execution_count": 63,
   "metadata": {
    "slideshow": {
     "slide_type": "fragment"
    }
   },
   "outputs": [
    {
     "data": {
      "text/html": [
       "<div>\n",
       "<style scoped>\n",
       "    .dataframe tbody tr th:only-of-type {\n",
       "        vertical-align: middle;\n",
       "    }\n",
       "\n",
       "    .dataframe tbody tr th {\n",
       "        vertical-align: top;\n",
       "    }\n",
       "\n",
       "    .dataframe thead th {\n",
       "        text-align: right;\n",
       "    }\n",
       "</style>\n",
       "<table border=\"1\" class=\"dataframe\">\n",
       "  <thead>\n",
       "    <tr style=\"text-align: right;\">\n",
       "      <th></th>\n",
       "      <th>edgedef&gt;node1 VARCHAR</th>\n",
       "      <th>node2 VARCHAR</th>\n",
       "      <th>weight INT</th>\n",
       "      <th>directed BOOLEAN</th>\n",
       "    </tr>\n",
       "  </thead>\n",
       "  <tbody>\n",
       "    <tr>\n",
       "      <th>182</th>\n",
       "      <td>a3ff0663c212ec05885d267b961344254f3971d3</td>\n",
       "      <td>46af478416f60768587acd0983852716432fcbbb</td>\n",
       "      <td>1</td>\n",
       "      <td>True</td>\n",
       "    </tr>\n",
       "    <tr>\n",
       "      <th>494</th>\n",
       "      <td>12553163662409cf01a21e56a6cb81dcbd8f2dae</td>\n",
       "      <td>b03f84ceb50905e559a365aee6da8c65710cbc9e</td>\n",
       "      <td>1</td>\n",
       "      <td>True</td>\n",
       "    </tr>\n",
       "    <tr>\n",
       "      <th>105</th>\n",
       "      <td>bdc3dff1593b66a12e6893689071d1005f737c2c</td>\n",
       "      <td>3462f3f8ba01e66f207415130235586cdcbace59</td>\n",
       "      <td>1</td>\n",
       "      <td>True</td>\n",
       "    </tr>\n",
       "  </tbody>\n",
       "</table>\n",
       "</div>"
      ],
      "text/plain": [
       "                        edgedef>node1 VARCHAR  \\\n",
       "182  a3ff0663c212ec05885d267b961344254f3971d3   \n",
       "494  12553163662409cf01a21e56a6cb81dcbd8f2dae   \n",
       "105  bdc3dff1593b66a12e6893689071d1005f737c2c   \n",
       "\n",
       "                                node2 VARCHAR  weight INT  directed BOOLEAN  \n",
       "182  46af478416f60768587acd0983852716432fcbbb           1              True  \n",
       "494  b03f84ceb50905e559a365aee6da8c65710cbc9e           1              True  \n",
       "105  3462f3f8ba01e66f207415130235586cdcbace59           1              True  "
      ]
     },
     "execution_count": 63,
     "metadata": {},
     "output_type": "execute_result"
    }
   ],
   "source": [
    "ethosg['edges'].sample(3)"
   ]
  },
  {
   "cell_type": "markdown",
   "metadata": {
    "slideshow": {
     "slide_type": "subslide"
    }
   },
   "source": [
    "![](ethosg.png)"
   ]
  },
  {
   "cell_type": "markdown",
   "metadata": {
    "slideshow": {
     "slide_type": "slide"
    }
   },
   "source": [
    "And the data in the `fullstats` data frame looks like this."
   ]
  },
  {
   "cell_type": "code",
   "execution_count": null,
   "metadata": {
    "slideshow": {
     "slide_type": "skip"
    }
   },
   "outputs": [],
   "source": [
    "ethosstats = pd.read_csv(ethospagedatadir + '/' + 'page_126517697403099_2017_10_31_14_48_28_fullstats.tab', sep='\\t')"
   ]
  },
  {
   "cell_type": "code",
   "execution_count": 65,
   "metadata": {
    "slideshow": {
     "slide_type": "fragment"
    }
   },
   "outputs": [
    {
     "data": {
      "text/html": [
       "<div>\n",
       "<style scoped>\n",
       "    .dataframe tbody tr th:only-of-type {\n",
       "        vertical-align: middle;\n",
       "    }\n",
       "\n",
       "    .dataframe tbody tr th {\n",
       "        vertical-align: top;\n",
       "    }\n",
       "\n",
       "    .dataframe thead th {\n",
       "        text-align: right;\n",
       "    }\n",
       "</style>\n",
       "<table border=\"1\" class=\"dataframe\">\n",
       "  <thead>\n",
       "    <tr style=\"text-align: right;\">\n",
       "      <th></th>\n",
       "      <th>type</th>\n",
       "      <th>by</th>\n",
       "      <th>post_id</th>\n",
       "      <th>post_link</th>\n",
       "      <th>post_message</th>\n",
       "      <th>picture</th>\n",
       "      <th>full_picture</th>\n",
       "      <th>link</th>\n",
       "      <th>link_domain</th>\n",
       "      <th>post_published</th>\n",
       "      <th>...</th>\n",
       "      <th>comments_replies</th>\n",
       "      <th>comment_likes_count</th>\n",
       "      <th>rea_NONE</th>\n",
       "      <th>rea_LIKE</th>\n",
       "      <th>rea_LOVE</th>\n",
       "      <th>rea_WOW</th>\n",
       "      <th>rea_HAHA</th>\n",
       "      <th>rea_SAD</th>\n",
       "      <th>rea_ANGRY</th>\n",
       "      <th>rea_THANKFUL</th>\n",
       "    </tr>\n",
       "  </thead>\n",
       "  <tbody>\n",
       "    <tr>\n",
       "      <th>23</th>\n",
       "      <td>event</td>\n",
       "      <td>post_page_126517697403099</td>\n",
       "      <td>126517697403099_1424530640935125</td>\n",
       "      <td>https://www.facebook.com/126517697403099/posts...</td>\n",
       "      <td>Wednesday is time for It Match Making  our bi-...</td>\n",
       "      <td>https://scontent.xx.fbcdn.net/v/t1.0-0/c106.0....</td>\n",
       "      <td>https://scontent.xx.fbcdn.net/v/t1.0-9/c254.0....</td>\n",
       "      <td>https://www.facebook.com/events/1916608298617207/</td>\n",
       "      <td>facebook.com</td>\n",
       "      <td>2017-10-01T18:00:00+0000</td>\n",
       "      <td>...</td>\n",
       "      <td>0</td>\n",
       "      <td>0</td>\n",
       "      <td>0</td>\n",
       "      <td>3</td>\n",
       "      <td>0</td>\n",
       "      <td>0</td>\n",
       "      <td>0</td>\n",
       "      <td>0</td>\n",
       "      <td>0</td>\n",
       "      <td>0</td>\n",
       "    </tr>\n",
       "    <tr>\n",
       "      <th>19</th>\n",
       "      <td>video</td>\n",
       "      <td>post_page_126517697403099</td>\n",
       "      <td>126517697403099_1551983308178905</td>\n",
       "      <td>https://www.facebook.com/126517697403099/posts...</td>\n",
       "      <td>Some people mistakenly think that you need pro...</td>\n",
       "      <td>https://scontent.xx.fbcdn.net/v/t15.0-10/s130x...</td>\n",
       "      <td>https://scontent.xx.fbcdn.net/v/t15.0-10/s720x...</td>\n",
       "      <td>https://www.facebook.com/ITUniversityCopenhage...</td>\n",
       "      <td>facebook.com</td>\n",
       "      <td>2017-10-08T18:00:00+0000</td>\n",
       "      <td>...</td>\n",
       "      <td>0</td>\n",
       "      <td>0</td>\n",
       "      <td>0</td>\n",
       "      <td>18</td>\n",
       "      <td>0</td>\n",
       "      <td>1</td>\n",
       "      <td>0</td>\n",
       "      <td>0</td>\n",
       "      <td>0</td>\n",
       "      <td>0</td>\n",
       "    </tr>\n",
       "    <tr>\n",
       "      <th>38</th>\n",
       "      <td>status</td>\n",
       "      <td>post_page_126517697403099</td>\n",
       "      <td>126517697403099_1396588387062684</td>\n",
       "      <td>https://www.facebook.com/126517697403099/posts...</td>\n",
       "      <td>Are you a (new) student at ITU? Then check out...</td>\n",
       "      <td>NaN</td>\n",
       "      <td>NaN</td>\n",
       "      <td>NaN</td>\n",
       "      <td>NaN</td>\n",
       "      <td>2017-08-25T05:30:00+0000</td>\n",
       "      <td>...</td>\n",
       "      <td>0</td>\n",
       "      <td>0</td>\n",
       "      <td>0</td>\n",
       "      <td>4</td>\n",
       "      <td>0</td>\n",
       "      <td>0</td>\n",
       "      <td>0</td>\n",
       "      <td>0</td>\n",
       "      <td>0</td>\n",
       "      <td>0</td>\n",
       "    </tr>\n",
       "  </tbody>\n",
       "</table>\n",
       "<p>3 rows × 29 columns</p>\n",
       "</div>"
      ],
      "text/plain": [
       "      type                         by                           post_id  \\\n",
       "23   event  post_page_126517697403099  126517697403099_1424530640935125   \n",
       "19   video  post_page_126517697403099  126517697403099_1551983308178905   \n",
       "38  status  post_page_126517697403099  126517697403099_1396588387062684   \n",
       "\n",
       "                                            post_link  \\\n",
       "23  https://www.facebook.com/126517697403099/posts...   \n",
       "19  https://www.facebook.com/126517697403099/posts...   \n",
       "38  https://www.facebook.com/126517697403099/posts...   \n",
       "\n",
       "                                         post_message  \\\n",
       "23  Wednesday is time for It Match Making  our bi-...   \n",
       "19  Some people mistakenly think that you need pro...   \n",
       "38  Are you a (new) student at ITU? Then check out...   \n",
       "\n",
       "                                              picture  \\\n",
       "23  https://scontent.xx.fbcdn.net/v/t1.0-0/c106.0....   \n",
       "19  https://scontent.xx.fbcdn.net/v/t15.0-10/s130x...   \n",
       "38                                                NaN   \n",
       "\n",
       "                                         full_picture  \\\n",
       "23  https://scontent.xx.fbcdn.net/v/t1.0-9/c254.0....   \n",
       "19  https://scontent.xx.fbcdn.net/v/t15.0-10/s720x...   \n",
       "38                                                NaN   \n",
       "\n",
       "                                                 link   link_domain  \\\n",
       "23  https://www.facebook.com/events/1916608298617207/  facebook.com   \n",
       "19  https://www.facebook.com/ITUniversityCopenhage...  facebook.com   \n",
       "38                                                NaN           NaN   \n",
       "\n",
       "              post_published      ...       comments_replies  \\\n",
       "23  2017-10-01T18:00:00+0000      ...                      0   \n",
       "19  2017-10-08T18:00:00+0000      ...                      0   \n",
       "38  2017-08-25T05:30:00+0000      ...                      0   \n",
       "\n",
       "   comment_likes_count  rea_NONE  rea_LIKE  rea_LOVE  rea_WOW  rea_HAHA  \\\n",
       "23                   0         0         3         0        0         0   \n",
       "19                   0         0        18         0        1         0   \n",
       "38                   0         0         4         0        0         0   \n",
       "\n",
       "    rea_SAD  rea_ANGRY  rea_THANKFUL  \n",
       "23        0          0             0  \n",
       "19        0          0             0  \n",
       "38        0          0             0  \n",
       "\n",
       "[3 rows x 29 columns]"
      ]
     },
     "execution_count": 65,
     "metadata": {},
     "output_type": "execute_result"
    }
   ],
   "source": [
    "ethosstats.sample(3)"
   ]
  },
  {
   "cell_type": "markdown",
   "metadata": {
    "slideshow": {
     "slide_type": "slide"
    }
   },
   "source": [
    "And the data in the `comments` data frame looks like this."
   ]
  },
  {
   "cell_type": "code",
   "execution_count": null,
   "metadata": {
    "slideshow": {
     "slide_type": "skip"
    }
   },
   "outputs": [],
   "source": [
    "ethoscomments = pd.read_csv(ethospagedatadir + '/' + 'page_126517697403099_2017_10_31_14_48_28_comments.tab', sep='\\t')"
   ]
  },
  {
   "cell_type": "code",
   "execution_count": 66,
   "metadata": {
    "slideshow": {
     "slide_type": "fragment"
    }
   },
   "outputs": [
    {
     "data": {
      "text/html": [
       "<div>\n",
       "<style scoped>\n",
       "    .dataframe tbody tr th:only-of-type {\n",
       "        vertical-align: middle;\n",
       "    }\n",
       "\n",
       "    .dataframe tbody tr th {\n",
       "        vertical-align: top;\n",
       "    }\n",
       "\n",
       "    .dataframe thead th {\n",
       "        text-align: right;\n",
       "    }\n",
       "</style>\n",
       "<table border=\"1\" class=\"dataframe\">\n",
       "  <thead>\n",
       "    <tr style=\"text-align: right;\">\n",
       "      <th></th>\n",
       "      <th>position</th>\n",
       "      <th>post_id</th>\n",
       "      <th>post_by</th>\n",
       "      <th>post_text</th>\n",
       "      <th>post_published</th>\n",
       "      <th>comment_id</th>\n",
       "      <th>comment_by</th>\n",
       "      <th>is_reply</th>\n",
       "      <th>comment_message</th>\n",
       "      <th>comment_published</th>\n",
       "      <th>comment_like_count</th>\n",
       "      <th>attachment_type</th>\n",
       "      <th>attachment_url</th>\n",
       "    </tr>\n",
       "  </thead>\n",
       "  <tbody>\n",
       "    <tr>\n",
       "      <th>8</th>\n",
       "      <td>22_0</td>\n",
       "      <td>126517697403099_1427070814014441</td>\n",
       "      <td>2cdea889f2ab0c23d54fd66088e7dae5272c065b</td>\n",
       "      <td>Congratulations to Jørgen Staunstrup  who has ...</td>\n",
       "      <td>2017-10-02T09:54:01+0000</td>\n",
       "      <td>1427070814014441_1427132457341610</td>\n",
       "      <td>f023973a19879cb9b7c553a3d6329d6d0cfcee94</td>\n",
       "      <td>0</td>\n",
       "      <td>He is also an excellent teacher!</td>\n",
       "      <td>2017-10-02T11:46:19+0000</td>\n",
       "      <td>0</td>\n",
       "      <td>NaN</td>\n",
       "      <td>NaN</td>\n",
       "    </tr>\n",
       "    <tr>\n",
       "      <th>10</th>\n",
       "      <td>26_0</td>\n",
       "      <td>126517697403099_1417639771624212</td>\n",
       "      <td>2cdea889f2ab0c23d54fd66088e7dae5272c065b</td>\n",
       "      <td>Great news! As part of a new collaboration wit...</td>\n",
       "      <td>2017-09-20T10:53:53+0000</td>\n",
       "      <td>1417639771624212_1418312011556988</td>\n",
       "      <td>93a6a8cde1db6fbca1d4f6afa07d2978118b0955</td>\n",
       "      <td>0</td>\n",
       "      <td>What about Copenhagen Suborbitals? 😊</td>\n",
       "      <td>2017-09-21T05:55:18+0000</td>\n",
       "      <td>0</td>\n",
       "      <td>NaN</td>\n",
       "      <td>NaN</td>\n",
       "    </tr>\n",
       "    <tr>\n",
       "      <th>12</th>\n",
       "      <td>36_1</td>\n",
       "      <td>126517697403099_1400408306680692</td>\n",
       "      <td>2cdea889f2ab0c23d54fd66088e7dae5272c065b</td>\n",
       "      <td>These students will become pioneers of the fi...</td>\n",
       "      <td>2017-08-29T08:54:44+0000</td>\n",
       "      <td>1400408306680692_1400556329999223</td>\n",
       "      <td>8489c1b9706767146f1dcb32ef72e9f8599a43ce</td>\n",
       "      <td>0</td>\n",
       "      <td>Martin B. Villadsen fotogen much?</td>\n",
       "      <td>2017-08-29T13:27:58+0000</td>\n",
       "      <td>1</td>\n",
       "      <td>NaN</td>\n",
       "      <td>NaN</td>\n",
       "    </tr>\n",
       "  </tbody>\n",
       "</table>\n",
       "</div>"
      ],
      "text/plain": [
       "   position                           post_id  \\\n",
       "8      22_0  126517697403099_1427070814014441   \n",
       "10     26_0  126517697403099_1417639771624212   \n",
       "12     36_1  126517697403099_1400408306680692   \n",
       "\n",
       "                                     post_by  \\\n",
       "8   2cdea889f2ab0c23d54fd66088e7dae5272c065b   \n",
       "10  2cdea889f2ab0c23d54fd66088e7dae5272c065b   \n",
       "12  2cdea889f2ab0c23d54fd66088e7dae5272c065b   \n",
       "\n",
       "                                            post_text  \\\n",
       "8   Congratulations to Jørgen Staunstrup  who has ...   \n",
       "10  Great news! As part of a new collaboration wit...   \n",
       "12   These students will become pioneers of the fi...   \n",
       "\n",
       "              post_published                         comment_id  \\\n",
       "8   2017-10-02T09:54:01+0000  1427070814014441_1427132457341610   \n",
       "10  2017-09-20T10:53:53+0000  1417639771624212_1418312011556988   \n",
       "12  2017-08-29T08:54:44+0000  1400408306680692_1400556329999223   \n",
       "\n",
       "                                  comment_by  is_reply  \\\n",
       "8   f023973a19879cb9b7c553a3d6329d6d0cfcee94         0   \n",
       "10  93a6a8cde1db6fbca1d4f6afa07d2978118b0955         0   \n",
       "12  8489c1b9706767146f1dcb32ef72e9f8599a43ce         0   \n",
       "\n",
       "                         comment_message         comment_published  \\\n",
       "8       He is also an excellent teacher!  2017-10-02T11:46:19+0000   \n",
       "10  What about Copenhagen Suborbitals? 😊  2017-09-21T05:55:18+0000   \n",
       "12     Martin B. Villadsen fotogen much?  2017-08-29T13:27:58+0000   \n",
       "\n",
       "    comment_like_count attachment_type attachment_url  \n",
       "8                    0             NaN            NaN  \n",
       "10                   0             NaN            NaN  \n",
       "12                   1             NaN            NaN  "
      ]
     },
     "execution_count": 66,
     "metadata": {},
     "output_type": "execute_result"
    }
   ],
   "source": [
    "ethoscomments.sample(3)"
   ]
  },
  {
   "cell_type": "markdown",
   "metadata": {
    "slideshow": {
     "slide_type": "slide"
    }
   },
   "source": [
    "Netvizz is described in Rieder's paper [*Studying Facebook via Data Extraction: The Netvizz \n",
    "Application*](http://thepoliticsofsystems.net/permafiles/rieder_websci.pdf) (WebSci'13). \n",
    "\n",
    "We can use Tableau, Gephi or other tools to merge and/or manipulate the data, and [Table 2 Net](http://tools.medialab.sciences-po.fr/table2net/) to define other graphs.\n",
    "\n",
    "The point was to be able to bring these possibilities to our project groups, and raise some questions."
   ]
  }
 ],
 "metadata": {
  "celltoolbar": "Slideshow",
  "kernelspec": {
   "display_name": "Python 3",
   "language": "python",
   "name": "python3"
  },
  "language_info": {
   "codemirror_mode": {
    "name": "ipython",
    "version": 3
   },
   "file_extension": ".py",
   "mimetype": "text/x-python",
   "name": "python",
   "nbconvert_exporter": "python",
   "pygments_lexer": "ipython3",
   "version": "3.6.2"
  }
 },
 "nbformat": 4,
 "nbformat_minor": 2
}
