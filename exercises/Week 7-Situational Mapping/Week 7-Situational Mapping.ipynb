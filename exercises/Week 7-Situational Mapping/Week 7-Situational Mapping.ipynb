{
 "cells": [
  {
   "cell_type": "markdown",
   "metadata": {},
   "source": [
    "# Situational mapping\n",
    "\n",
    "Exercise: Mapping actors, relations and discourse (worlds of meaning, including technology)\n",
    "\n",
    "Today’s exercise will explore the mapping of actors, their associations, and the social worlds they form together in which technology is present. To conducts this exercise you need to have read the book chapters from Adele Clarke’s Situational Analysis.\n",
    "\n",
    "This exercise will aid you in fleshing out prominent and less prominent actors and issues relating to the case you have chosen to investigate. Also, it will help you identify issues that could be interesting and relevant to dive further into. The mapping might then lead to reworking and refining your research question(s).\n",
    "\n",
    "### Schedule\n",
    "1. Introduction to the exercise\n",
    "2. Make situational maps by going through mapping exercises 1-3\n",
    "\n",
    "## Mapping exercise 1 - Messy maps (see Clarke’s example on page 88).\n",
    "In a messy map, it is important that you start listing what you know about the chosen case. This could be the various actors, such as; human, non-human, key event, organizations, social groups etc. The strength of a messy map is that it is accessible and sharable and allows you to mix all sorts of different elements. Makes notes (memos) of the discussions you engage in when making the maps. Keep a master copy. The master copy give you both something to build later maps of as different themes and concepts become more, or less, important during your research. It also enables you to go back and see what your initial thoughts were and remember elements you might have forgotten in the meantime.\n",
    "\n",
    "## Mapping exercise 2 – Relational maps (see Clarke page 104).\n",
    "Based on the messy maps try relating actors to each other. What is important here is not to come up with a map that accurately visualizes all possible relations between and among actors. The main point in this exercise is to describe the relations you sketch between actors. If actors are related what is significant about their relation? What might the quality of their relation be? Make notes (memos) of the discussions you have when relating actors. Memos are important documents for later analysis.\n",
    "\n",
    "## Mapping exercise 3 – Social worlds / arenas maps (see Clarke page 118).\n",
    "The purpose of identifying social worlds and arenas is to visualize collectives/groups of actors considering them being participants in an arena, where they interact and negotiate what counts as reality. Identify social worlds / arena by discussing how actors form what Clarke calls “universes of discourse”. The arena in which one or more social worlds are placed illustrates the wider ‘battlefield’ of the negotiations. Arenas can be a specific setting (a hospital), an issue (a law), a theme or problematization (health debate), justification (scientific disputes), etc.\n",
    "\n",
    "**OBS: Take breaks as you need them.**\n",
    "\n",
    "## Presentations\n",
    "Groups will present select social world/arenas maps, key insights, and new questions that emerged from the mapping (5-8 minutes)"
   ]
  }
 ],
 "metadata": {
  "kernelspec": {
   "display_name": "Python 3",
   "language": "python",
   "name": "python3"
  },
  "language_info": {
   "codemirror_mode": {
    "name": "ipython",
    "version": 3
   },
   "file_extension": ".py",
   "mimetype": "text/x-python",
   "name": "python",
   "nbconvert_exporter": "python",
   "pygments_lexer": "ipython3",
   "version": "3.6.1"
  }
 },
 "nbformat": 4,
 "nbformat_minor": 2
}
