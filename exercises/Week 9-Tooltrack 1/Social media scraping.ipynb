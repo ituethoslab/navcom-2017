{
 "cells": [
  {
   "cell_type": "markdown",
   "metadata": {},
   "source": [
    "# Social media scraping\n",
    "\n",
    "Netvizz is a Facebook application, with a server provided by [Digital Methods Initiative](https://www.digitalmethods.net/), at University of Amsterdam (makers of TCAT). The paper [*Studying Facebook via Data Extraction: The Netvizz Application*](http://thepoliticsofsystems.net/permafiles/rieder_websci.pdf) (WebSci'13) by the developer Bernhart Rieder describes the fundamentals, and theoretical and methodological background.\n",
    "\n",
    "The tool provides several modules for data extraction. We will start with the *page data* module."
   ]
  },
  {
   "cell_type": "markdown",
   "metadata": {},
   "source": [
    "## Description of workshop\n",
    "\n",
    "In this workshop we will explore Facebook data in a different way than through the “normal” Facebook interface. This will happen through two stages:\n",
    "\n",
    "* Collect data from a **Facebook Page** through the Facebook API with the tool **Netvizz**.\n",
    "* Visualize & explore the data from a Facebook Page with **Gephi**.\n",
    "\n",
    "The purpose is to get accustomed with Netvizz and Gephi, and to get an idea of the questions we can ask through these tools.\n",
    "\n",
    "### Practical Goal 1\n",
    "\n",
    "Highlight in Gephi the most “popular posts” from a given Facebook page by sizing the nodes according to attributes such as likes or comments.\n",
    "\n",
    "### Practical Goal 2\n",
    "\n",
    "Highlight in Gephi the relations between two or more Facebook pages (explore which users are shared between two pages and the comments they have interacted with on each page.)\n",
    "\n",
    "### Learning Outcomes\n",
    "\n",
    "Get accustomed with using Netvizz and Gephi.\n",
    "\n",
    "Get a sense of how Facebook constructs the way we view data and normalize certain ways of looking at data. "
   ]
  },
  {
   "cell_type": "markdown",
   "metadata": {},
   "source": [
    "## Step-by-step guide for collecting and exploring Facebook Data\n",
    "\n",
    "Find a Facebook page that is relevant for your project or that you find interesting. Copy the URL of the Facebook page (this URL will be used in step 3)."
   ]
  },
  {
   "cell_type": "markdown",
   "metadata": {},
   "source": [
    "### Use Netvizz to collect data from a Facebook Page:\n",
    "\n",
    "1. Login to your personal Facebook account and go to the link: https://apps.facebook.com/netvizz/. From this link you install the app by allowing it to access public information from your profile. By clicking on the app you should see the same screen as below.\n",
    "1. Click on the “**page data**” link marked by the red square below. ![](netvizz-page data.png)\n",
    "1. In order to collect the data from your Facebook Page you need the “page id”. Click on the link “find page ids here”. If the link doesn’t work you can use this link instead: http://findmyfbid.com/ Type in the full URL of the Facebook page you want to explore and receive a “numeric ID”.\n",
    "1. Enter the “numeric ID” in the textbox next to “page id:” see screenshot below. Choose last 50 posts. Choose full data. Click on the button “posts by page and users”.  ![](netvizz-page data specification.png)\n",
    "1. Wait for Netvizz to collect the data from the Facebook page (time depends on the “data scope” selected above, and the activity at the given Facebook page. When its done download the zip archive to you computer. ![](netvizz-collecting data.png)\n",
    "\n",
    "\n",
    "In this workshop we will be focusing on the file with the extension .gdf. You can view the other .tab files in any spreadsheet software such as Excel, Numbers or Google Spreadsheet."
   ]
  },
  {
   "cell_type": "markdown",
   "metadata": {},
   "source": [
    "### Practical Goal 1: Use Gephi to explore/visualize the data\n",
    "\n",
    "1. Download and install the latest version of Gephi (0.9.1). Link: https://gephi.org\n",
    "1. Update Gephi plugins. Open Gephi and go to the “Tools” tab in the menu bar à Select “Plugins”. In the “Updates” tab, click the “Update” button to put your Gephi up to date. Restart Gephi.\n",
    "1. Now you should see the screenshot above. Click the “Open Graph File..”. Select the .gdf file that you downloaded to you computer in step 5. Now you should see the new menu:\n",
    "1. Select “Undirected” in graph type and press OK.\n",
    "1. Now we see the nodes and the edges. In this example there is 143 nodes and 255 edges, which can bee seen in the context tab in the upper right corner. Apply the algorithm “ForceAtlas2” to spatialize the network1. Select “ForceAtlas2” in the layout pane to the left, see the figure below. Click “Run”.\n",
    "1. Now the nodes and edges have changed positions, put simply nodes that are closer to each other are more related than nodes far away from each other. To adjust the visuals of the network use the “Tuning” and “Behavior Alternatives” menus, which are highlighted in the figure above. For networks with below 500 nodes it is often visually appealing to select all Behavior Alternatives: “Dissuade Hubs”, “LinLog mode” and “Prevent Overlap”. See the figure on next page. Try and play around with the different visual options in “Tuning” and “Behaviour Alternatives” to get a sense of how they affect the network. OBS: Prevent Overlap makes sure that two nodes aren’t shown on top of each other, if used it should be the last option ticked since it stops the layout algorithm.\n",
    "1. The next step is to color and size nodes, but first make sure to stop the algorithm by clicking on the button that now says “Stop”.\n",
    "1. First color the nodes. This is done in the pane called Appearance found in the upper left corner. Select Nodes à Select the picture of the palette à Select Partioning à Select type (Type refers to whether a node are a “User” or a “Post” and color them accordingly).\n",
    "1. Now the final step to find the most “popular” posts is to size the nodes accordingly to an attribute such as degree, number of likes, or number of comments. Select the picture of the three circles next to the palette à Select Ranking à Select an attribute (like_count) à Select the “Minimum size” and “Maximum size” of the nodes (10 – 70) à Run the algorithm again if your nodes now overlap each other.\n",
    "1. Now explore the graph. Click on the white arrow with a question mark just to the right of the graph. When you click on the different nodes in the graph you will receive information about them in the “Edit” pane to the left. In this example it is possible to see the selected post starts with “Hello everyone…” and that it has received 27 likes. "
   ]
  },
  {
   "cell_type": "markdown",
   "metadata": {},
   "source": [
    "### Practical Goal 2: Append data to the graph and explore relations"
   ]
  }
 ],
 "metadata": {
  "kernelspec": {
   "display_name": "Python 3",
   "language": "python",
   "name": "python3"
  },
  "language_info": {
   "codemirror_mode": {
    "name": "ipython",
    "version": 3
   },
   "file_extension": ".py",
   "mimetype": "text/x-python",
   "name": "python",
   "nbconvert_exporter": "python",
   "pygments_lexer": "ipython3",
   "version": "3.6.2"
  }
 },
 "nbformat": 4,
 "nbformat_minor": 2
}
