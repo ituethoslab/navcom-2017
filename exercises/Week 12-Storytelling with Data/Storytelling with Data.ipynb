{
 "cells": [
  {
   "cell_type": "markdown",
   "metadata": {
    "slideshow": {
     "slide_type": "slide"
    }
   },
   "source": [
    "# Storytelling with Data 🐉"
   ]
  },
  {
   "cell_type": "markdown",
   "metadata": {
    "slideshow": {
     "slide_type": "fragment"
    }
   },
   "source": [
    "What is a story?\n",
    "\n",
    "* It has beginning, middle and end (Aristotle)\n",
    "* It has protagonist(s) and transformation(s)\n",
    "* It is what culture(s) is made of\n",
    "* It has audience(s)"
   ]
  },
  {
   "cell_type": "markdown",
   "metadata": {
    "slideshow": {
     "slide_type": "slide"
    }
   },
   "source": [
    "## Literate programming\n",
    "\n",
    "The style of programming underlying [Jupyter Notebooks](https://jupyter-notebook.readthedocs.io/en/stable/notebook.html). Knuth's 1992 book, and an earlier 1984 paper [*Literate Programming*](http://www.literateprogramming.com/knuthweb.pdf)\n",
    "\n",
    "A narrative in human and computer language"
   ]
  },
  {
   "cell_type": "markdown",
   "metadata": {
    "slideshow": {
     "slide_type": "fragment"
    }
   },
   "source": [
    "* Tavares: [*An exploratory statistical analysis of the 2014 World Cup Final*](http://nbviewer.jupyter.org/github/rjtavares/football-crunching/blob/master/notebooks/an%20exploratory%20data%20analysis%20of%20the%20world%20cup%20final.ipynb)\n",
    "* Arribas-Bel: [*Spatial autocorrelation and Exploratory Spatial Data Analysis*](https://nbviewer.jupyter.org/url/darribas.org/gds17/content/labs/lab_05.ipynb)"
   ]
  },
  {
   "cell_type": "markdown",
   "metadata": {
    "slideshow": {
     "slide_type": "slide"
    }
   },
   "source": [
    "## Hans Rosling (RIP)\n",
    "\n",
    "<a href=\"https://www.ted.com/talks/hans_rosling_shows_the_best_stats_you_ve_ever_seen\">\n",
    "    <img src=\"rosling_at_ted-the_best_stats_youve_ever_seen.png\" style='width: 50%; float:left;' />\n",
    "</a>\n",
    "\n",
    "<a href=\"https://www.ted.com/talks/hans_rosling_and_the_magic_washing_machine\">\n",
    "    <img src=\"rosling_at_ted-the_magic_washing_machine.png\" style='width: 50%; float: left;' />\n",
    "</a> "
   ]
  },
  {
   "cell_type": "markdown",
   "metadata": {
    "slideshow": {
     "slide_type": "fragment"
    }
   },
   "source": [
    "Enjoy him [destroy ☠ DR2 *Deadline* reporter](https://www.youtube.com/watch?v=xYnpJGaMiXo)"
   ]
  },
  {
   "cell_type": "markdown",
   "metadata": {
    "slideshow": {
     "slide_type": "subslide"
    }
   },
   "source": [
    "He was a phenomenal public figure, and sadly passed away in early 2017.\n",
    "\n",
    "Two tribute/obituary podcasts worth listening to\n",
    "\n",
    "* [*Hans Rosling - the Extraordinary Life of a Statistical Guru*](http://www.bbc.co.uk/programmes/p04sbvlt) in BBC's *More or Less*\n",
    "* [*A Tribute to Hans Rosling*](http://datastori.es/92-a-tribute-to-hans-rosling/) in *Data Stories*"
   ]
  },
  {
   "cell_type": "markdown",
   "metadata": {
    "slideshow": {
     "slide_type": "slide"
    }
   },
   "source": [
    "## Cole Nussbaumer Klaflic\n",
    "\n",
    "![Klaflic](https://pbs.twimg.com/profile_images/595043219508834304/KwlJt1Fr_400x400.jpg)\n",
    "\n",
    "[Knaflic](https://twitter.com/storywithdata)'s [website *storytelling with data*](http://www.storytellingwithdata.com/) has resources."
   ]
  },
  {
   "cell_type": "markdown",
   "metadata": {
    "slideshow": {
     "slide_type": "slide"
    }
   },
   "source": [
    "# Finish the NavCom 2017 story!"
   ]
  }
 ],
 "metadata": {
  "celltoolbar": "Slideshow",
  "kernelspec": {
   "display_name": "Python 3",
   "language": "python",
   "name": "python3"
  },
  "language_info": {
   "codemirror_mode": {
    "name": "ipython",
    "version": 3
   },
   "file_extension": ".py",
   "mimetype": "text/x-python",
   "name": "python",
   "nbconvert_exporter": "python",
   "pygments_lexer": "ipython3",
   "version": "3.6.2"
  }
 },
 "nbformat": 4,
 "nbformat_minor": 2
}
