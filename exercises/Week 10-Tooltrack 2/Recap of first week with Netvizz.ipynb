{
 "cells": [
  {
   "cell_type": "markdown",
   "metadata": {
    "slideshow": {
     "slide_type": "slide"
    }
   },
   "source": [
    "# Recap of first week with Netvizz"
   ]
  },
  {
   "cell_type": "code",
   "execution_count": 26,
   "metadata": {
    "slideshow": {
     "slide_type": "skip"
    }
   },
   "outputs": [],
   "source": [
    "import os\n",
    "import pandas as pd"
   ]
  },
  {
   "cell_type": "markdown",
   "metadata": {
    "slideshow": {
     "slide_type": "fragment"
    }
   },
   "source": [
    "On first week of the social media scraping tooltrack we used [Netvizz](https://apps.facebook.com/netvizz). It has six different modules, we started with the *page data* module, and received a couple of files for each extraction. For example:"
   ]
  },
  {
   "cell_type": "code",
   "execution_count": 8,
   "metadata": {
    "slideshow": {
     "slide_type": "skip"
    }
   },
   "outputs": [],
   "source": [
    "ethospagedatadir = \"page_126517697403099_2017_10_31_14_48_28\""
   ]
  },
  {
   "cell_type": "code",
   "execution_count": 10,
   "metadata": {
    "slideshow": {
     "slide_type": "fragment"
    }
   },
   "outputs": [
    {
     "data": {
      "text/plain": [
       "['page_126517697403099_2017_10_31_14_48_28.gdf',\n",
       " 'page_126517697403099_2017_10_31_14_48_28_comments.tab',\n",
       " 'page_126517697403099_2017_10_31_14_48_28_fanspercountry.tab',\n",
       " 'page_126517697403099_2017_10_31_14_48_28_fullstats.tab',\n",
       " 'page_126517697403099_2017_10_31_14_48_28_statsperday.tab']"
      ]
     },
     "execution_count": 10,
     "metadata": {},
     "output_type": "execute_result"
    }
   ],
   "source": [
    "os.listdir(ethospagedatadir)"
   ]
  },
  {
   "cell_type": "markdown",
   "metadata": {
    "slideshow": {
     "slide_type": "slide"
    }
   },
   "source": [
    "And we explored the shape and nature of the data, to see what did we receive from Netvizz. The data in the graph looks like this."
   ]
  },
  {
   "cell_type": "code",
   "execution_count": 21,
   "metadata": {
    "slideshow": {
     "slide_type": "fragment"
    }
   },
   "outputs": [
    {
     "data": {
      "text/html": [
       "<div>\n",
       "<style scoped>\n",
       "    .dataframe tbody tr th:only-of-type {\n",
       "        vertical-align: middle;\n",
       "    }\n",
       "\n",
       "    .dataframe tbody tr th {\n",
       "        vertical-align: top;\n",
       "    }\n",
       "\n",
       "    .dataframe thead th {\n",
       "        text-align: right;\n",
       "    }\n",
       "</style>\n",
       "<table border=\"1\" class=\"dataframe\">\n",
       "  <thead>\n",
       "    <tr style=\"text-align: right;\">\n",
       "      <th></th>\n",
       "      <th>nodedef&gt;name VARCHAR</th>\n",
       "      <th>label VARCHAR</th>\n",
       "      <th>type VARCHAR</th>\n",
       "      <th>type_post VARCHAR</th>\n",
       "      <th>like_count INT</th>\n",
       "      <th>comment_count INT</th>\n",
       "      <th>reactions_count INT</th>\n",
       "      <th>engagement INT</th>\n",
       "      <th>post_published VARCHAR</th>\n",
       "      <th>post_published_unix INT</th>\n",
       "      <th>shares INT</th>\n",
       "      <th>post_id VARCHAR</th>\n",
       "      <th>post_link VARCHAR</th>\n",
       "    </tr>\n",
       "  </thead>\n",
       "  <tbody>\n",
       "    <tr>\n",
       "      <th>a36394075d047db2256e18a9194c78e81929b8dc</th>\n",
       "      <td>1fc8677fb11fbb92156620c1019a36644603b9cb</td>\n",
       "      <td>1</td>\n",
       "      <td>true</td>\n",
       "      <td>NaN</td>\n",
       "      <td>NaN</td>\n",
       "      <td>NaN</td>\n",
       "      <td>NaN</td>\n",
       "      <td>NaN</td>\n",
       "      <td>NaN</td>\n",
       "      <td>NaN</td>\n",
       "      <td>NaN</td>\n",
       "      <td>NaN</td>\n",
       "      <td>NaN</td>\n",
       "    </tr>\n",
       "  </tbody>\n",
       "</table>\n",
       "</div>"
      ],
      "text/plain": [
       "                                                              nodedef>name VARCHAR  \\\n",
       "a36394075d047db2256e18a9194c78e81929b8dc  1fc8677fb11fbb92156620c1019a36644603b9cb   \n",
       "\n",
       "                                         label VARCHAR type VARCHAR  \\\n",
       "a36394075d047db2256e18a9194c78e81929b8dc             1         true   \n",
       "\n",
       "                                          type_post VARCHAR  like_count INT  \\\n",
       "a36394075d047db2256e18a9194c78e81929b8dc                NaN             NaN   \n",
       "\n",
       "                                          comment_count INT  \\\n",
       "a36394075d047db2256e18a9194c78e81929b8dc                NaN   \n",
       "\n",
       "                                          reactions_count INT engagement INT  \\\n",
       "a36394075d047db2256e18a9194c78e81929b8dc                  NaN            NaN   \n",
       "\n",
       "                                          post_published VARCHAR  \\\n",
       "a36394075d047db2256e18a9194c78e81929b8dc                     NaN   \n",
       "\n",
       "                                          post_published_unix INT shares INT  \\\n",
       "a36394075d047db2256e18a9194c78e81929b8dc                      NaN        NaN   \n",
       "\n",
       "                                         post_id VARCHAR  post_link VARCHAR  \n",
       "a36394075d047db2256e18a9194c78e81929b8dc             NaN                NaN  "
      ]
     },
     "execution_count": 21,
     "metadata": {},
     "output_type": "execute_result"
    }
   ],
   "source": [
    "ethosg = pd.read_csv(ethospagedatadir + '/' + 'page_126517697403099_2017_10_31_14_48_28.gdf')\n",
    "ethosg.sample(1)"
   ]
  },
  {
   "cell_type": "markdown",
   "metadata": {
    "slideshow": {
     "slide_type": "subslide"
    }
   },
   "source": [
    "![](ethosg.png)"
   ]
  },
  {
   "cell_type": "markdown",
   "metadata": {
    "slideshow": {
     "slide_type": "slide"
    }
   },
   "source": [
    "And the data in the `fullstats` data frame looks like this."
   ]
  },
  {
   "cell_type": "code",
   "execution_count": 24,
   "metadata": {
    "slideshow": {
     "slide_type": "fragment"
    }
   },
   "outputs": [
    {
     "data": {
      "text/html": [
       "<div>\n",
       "<style scoped>\n",
       "    .dataframe tbody tr th:only-of-type {\n",
       "        vertical-align: middle;\n",
       "    }\n",
       "\n",
       "    .dataframe tbody tr th {\n",
       "        vertical-align: top;\n",
       "    }\n",
       "\n",
       "    .dataframe thead th {\n",
       "        text-align: right;\n",
       "    }\n",
       "</style>\n",
       "<table border=\"1\" class=\"dataframe\">\n",
       "  <thead>\n",
       "    <tr style=\"text-align: right;\">\n",
       "      <th></th>\n",
       "      <th>type</th>\n",
       "      <th>by</th>\n",
       "      <th>post_id</th>\n",
       "      <th>post_link</th>\n",
       "      <th>post_message</th>\n",
       "      <th>picture</th>\n",
       "      <th>full_picture</th>\n",
       "      <th>link</th>\n",
       "      <th>link_domain</th>\n",
       "      <th>post_published</th>\n",
       "      <th>...</th>\n",
       "      <th>comments_replies</th>\n",
       "      <th>comment_likes_count</th>\n",
       "      <th>rea_NONE</th>\n",
       "      <th>rea_LIKE</th>\n",
       "      <th>rea_LOVE</th>\n",
       "      <th>rea_WOW</th>\n",
       "      <th>rea_HAHA</th>\n",
       "      <th>rea_SAD</th>\n",
       "      <th>rea_ANGRY</th>\n",
       "      <th>rea_THANKFUL</th>\n",
       "    </tr>\n",
       "  </thead>\n",
       "  <tbody>\n",
       "    <tr>\n",
       "      <th>0</th>\n",
       "      <td>video</td>\n",
       "      <td>post_page_126517697403099</td>\n",
       "      <td>126517697403099_1573857905991445</td>\n",
       "      <td>https://www.facebook.com/126517697403099/posts...</td>\n",
       "      <td>Emina is studying Global Business Informatics ...</td>\n",
       "      <td>https://scontent.xx.fbcdn.net/v/t15.0-10/s130x...</td>\n",
       "      <td>https://scontent.xx.fbcdn.net/v/t15.0-10/s720x...</td>\n",
       "      <td>https://www.facebook.com/ITUniversityCopenhage...</td>\n",
       "      <td>facebook.com</td>\n",
       "      <td>2017-10-31T10:56:00+0000</td>\n",
       "      <td>...</td>\n",
       "      <td>2</td>\n",
       "      <td>5</td>\n",
       "      <td>0</td>\n",
       "      <td>3</td>\n",
       "      <td>0</td>\n",
       "      <td>0</td>\n",
       "      <td>0</td>\n",
       "      <td>0</td>\n",
       "      <td>0</td>\n",
       "      <td>0</td>\n",
       "    </tr>\n",
       "  </tbody>\n",
       "</table>\n",
       "<p>1 rows × 29 columns</p>\n",
       "</div>"
      ],
      "text/plain": [
       "    type                         by                           post_id  \\\n",
       "0  video  post_page_126517697403099  126517697403099_1573857905991445   \n",
       "\n",
       "                                           post_link  \\\n",
       "0  https://www.facebook.com/126517697403099/posts...   \n",
       "\n",
       "                                        post_message  \\\n",
       "0  Emina is studying Global Business Informatics ...   \n",
       "\n",
       "                                             picture  \\\n",
       "0  https://scontent.xx.fbcdn.net/v/t15.0-10/s130x...   \n",
       "\n",
       "                                        full_picture  \\\n",
       "0  https://scontent.xx.fbcdn.net/v/t15.0-10/s720x...   \n",
       "\n",
       "                                                link   link_domain  \\\n",
       "0  https://www.facebook.com/ITUniversityCopenhage...  facebook.com   \n",
       "\n",
       "             post_published      ...       comments_replies  \\\n",
       "0  2017-10-31T10:56:00+0000      ...                      2   \n",
       "\n",
       "  comment_likes_count  rea_NONE  rea_LIKE  rea_LOVE  rea_WOW  rea_HAHA  \\\n",
       "0                   5         0         3         0        0         0   \n",
       "\n",
       "   rea_SAD  rea_ANGRY  rea_THANKFUL  \n",
       "0        0          0             0  \n",
       "\n",
       "[1 rows x 29 columns]"
      ]
     },
     "execution_count": 24,
     "metadata": {},
     "output_type": "execute_result"
    }
   ],
   "source": [
    "ethosstats = pd.read_csv(ethospagedatadir + '/' + 'page_126517697403099_2017_10_31_14_48_28_fullstats.tab', sep='\\t')\n",
    "ethosstats.sample(1)"
   ]
  },
  {
   "cell_type": "markdown",
   "metadata": {
    "slideshow": {
     "slide_type": "slide"
    }
   },
   "source": [
    "Netvizz is described in Rieder's paper [*Studying Facebook via Data Extraction: The Netvizz \n",
    "Application*](http://thepoliticsofsystems.net/permafiles/rieder_websci.pdf) (WebSci'13). \n",
    "\n",
    "We can use Tableau, Gephi or other tools to merge and/or manipulate the data, and [Table 2 Net](http://tools.medialab.sciences-po.fr/table2net/) to define other graphs.\n",
    "\n",
    "The point was to be able to bring these possibilities to our project groups, and raise some questions."
   ]
  }
 ],
 "metadata": {
  "celltoolbar": "Slideshow",
  "kernelspec": {
   "display_name": "Python 3",
   "language": "python",
   "name": "python3"
  },
  "language_info": {
   "codemirror_mode": {
    "name": "ipython",
    "version": 3
   },
   "file_extension": ".py",
   "mimetype": "text/x-python",
   "name": "python",
   "nbconvert_exporter": "python",
   "pygments_lexer": "ipython3",
   "version": "3.6.2"
  }
 },
 "nbformat": 4,
 "nbformat_minor": 2
}
