{
 "cells": [
  {
   "cell_type": "markdown",
   "metadata": {
    "slideshow": {
     "slide_type": "slide"
    }
   },
   "source": [
    "# Storytelling with Data 🐉"
   ]
  },
  {
   "cell_type": "markdown",
   "metadata": {
    "slideshow": {
     "slide_type": "fragment"
    }
   },
   "source": [
    "What is a story? Well who knows!\n",
    "\n",
    "* Maybe it has beginning, middle and end (Aristotle)?\n",
    "* Maybe it has protagonist(s) and transformation?\n",
    "* Maybe it is what cultures are made of?"
   ]
  },
  {
   "cell_type": "markdown",
   "metadata": {
    "slideshow": {
     "slide_type": "slide"
    }
   },
   "source": [
    "## Literate programming\n",
    "\n",
    "Which is the style of programming paradigm underlying [Jupyter Notebooks](https://jupyter-notebook.readthedocs.io/en/stable/notebook.html). Knuth's 1992 book, and an earlier paper from 1984 [*Literate Programming*](http://www.literateprogramming.com/knuthweb.pdf)."
   ]
  },
  {
   "cell_type": "markdown",
   "metadata": {
    "slideshow": {
     "slide_type": "fragment"
    }
   },
   "source": [
    "* [An exploratory statistical analysis of the 2014 World Cup Final](http://nbviewer.jupyter.org/github/rjtavares/football-crunching/blob/master/notebooks/an%20exploratory%20data%20analysis%20of%20the%20world%20cup%20final.ipynb)\n",
    "* [Spatial autocorrelation and Exploratory Spatial Data Analysis](https://nbviewer.jupyter.org/url/darribas.org/gds17/content/labs/lab_05.ipynb)"
   ]
  },
  {
   "cell_type": "markdown",
   "metadata": {
    "slideshow": {
     "slide_type": "slide"
    }
   },
   "source": [
    "## Hans Rosling (RIP)\n",
    "\n",
    "![Rosling pointing at things](https://ichef.bbci.co.uk/news/660/cpsprodpb/8189/production/_94216133_gettyimages-148202581.jpg)\n",
    "\n",
    "Phenomenal, passed away in early 2017 (RIP)"
   ]
  },
  {
   "cell_type": "markdown",
   "metadata": {
    "slideshow": {
     "slide_type": "subslide"
    }
   },
   "source": [
    "Hans [on TED](https://www.ted.com/speakers/hans_rosling), you can start with [*The magic washing machine*](https://www.ted.com/talks/hans_rosling_and_the_magic_washing_machine) or [*The best stats you've ever seen*](https://www.ted.com/talks/hans_rosling_shows_the_best_stats_you_ve_ever_seen)"
   ]
  },
  {
   "cell_type": "markdown",
   "metadata": {
    "slideshow": {
     "slide_type": "fragment"
    }
   },
   "source": [
    "Two tribute/obituary podcasts\n",
    "\n",
    "* [*Hans Rosling - the Extraordinary Life of a Statistical Guru*](http://www.bbc.co.uk/programmes/p04sbvlt) in BBC's *More or Less*\n",
    "* [*A Tribute to Hans Rosling*](http://datastori.es/92-a-tribute-to-hans-rosling/) in *Data Stories*"
   ]
  },
  {
   "cell_type": "markdown",
   "metadata": {
    "slideshow": {
     "slide_type": "slide"
    }
   },
   "source": [
    "## Cole Nussbaumer Klaflic\n",
    "\n",
    "![Klaflic](https://pbs.twimg.com/profile_images/595043219508834304/KwlJt1Fr_400x400.jpg)\n",
    "\n",
    "[Knaflic](https://twitter.com/storywithdata)'s [website *storytelling with data*](http://www.storytellingwithdata.com/) has resources."
   ]
  }
 ],
 "metadata": {
  "celltoolbar": "Slideshow",
  "kernelspec": {
   "display_name": "Python 3",
   "language": "python",
   "name": "python3"
  },
  "language_info": {
   "codemirror_mode": {
    "name": "ipython",
    "version": 3
   },
   "file_extension": ".py",
   "mimetype": "text/x-python",
   "name": "python",
   "nbconvert_exporter": "python",
   "pygments_lexer": "ipython3",
   "version": "3.6.2"
  }
 },
 "nbformat": 4,
 "nbformat_minor": 2
}
