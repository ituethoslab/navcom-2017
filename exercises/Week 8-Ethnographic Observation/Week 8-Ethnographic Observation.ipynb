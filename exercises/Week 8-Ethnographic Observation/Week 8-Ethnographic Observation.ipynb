{
 "cells": [
  {
   "cell_type": "markdown",
   "metadata": {},
   "source": [
    "# Ethnographic Observation\n",
    "\n",
    "## 1. Do an ethnographic observation\n",
    "As a group, find a moment of *waiting* to observe at ITU for **20 min.** Individually jot down notes.\n",
    "\n",
    "**Jotting down notes:**\n",
    "Jottings are a way to generate data while conducting observations. It is a way to write down what you see in a way that you can elaborate upon later when you write up the observation. Think of jottings as triggers for writing up a story later with more detail.\n",
    "\n",
    "What you can write down:\n",
    "\n",
    "jottings of...\n",
    "* fragments of dialogue\n",
    "* sensory details\n",
    "\n",
    "observations of....\n",
    "* scenes \n",
    "* interactions and gestures\n",
    "* talk and action\n",
    "* personal reflections such as...\n",
    "* first impressions\n",
    "* emotions\n",
    "\n",
    "These jottings should help you to recall not only what happened but the context. Who was there? What was happening at the time, just before and after? \n",
    "\n",
    "## 2. Write up a description\n",
    "When you are back in the classroom individually spend 15 minutes to write a detailed description of what you you saw (should not be analytical). Share your descriptions within the group. Discuss  e.g. What different approaches to observation are visible in the description? What different styles or approaches to the writing up? \n",
    "\n",
    "Example of ethnographic description: \n",
    "https://www.ncbi.nlm.nih.gov/books/NBK223359/\n",
    "\n",
    "## 3. Presentation for 3 min of your ethnographic observation \n",
    "Choose one writing that illustrates something that you learned about doing the observation and description or something that you want to highlight and present it to the class. \n",
    "\n",
    "## 4. Do an ethnographic observation and description of your topic\n",
    "Look at an online place where people hang out and discuss your topic e.g. facebook groups/pages, online forums, twitter, blogs, reddit etc. Jot down notes about what you see and write a detailed description of what you you saw (should not be analytical). \n",
    "\n",
    "## 5. Present your description for the class"
   ]
  }
 ],
 "metadata": {
  "kernelspec": {
   "display_name": "Python 3",
   "language": "python",
   "name": "python3"
  },
  "language_info": {
   "codemirror_mode": {
    "name": "ipython",
    "version": 3
   },
   "file_extension": ".py",
   "mimetype": "text/x-python",
   "name": "python",
   "nbconvert_exporter": "python",
   "pygments_lexer": "ipython3",
   "version": "3.6.2"
  }
 },
 "nbformat": 4,
 "nbformat_minor": 2
}
