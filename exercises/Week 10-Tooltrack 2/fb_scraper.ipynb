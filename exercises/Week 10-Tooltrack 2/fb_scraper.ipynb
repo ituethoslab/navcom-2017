{
 "cells": [
  {
   "cell_type": "markdown",
   "metadata": {
    "slideshow": {
     "slide_type": "notes"
    }
   },
   "source": [
    "# TODO\n",
    "\n",
    "* Demonstrate extra value\n",
    "* Scaffold exploitation of extra value\n",
    "* Data semantics: what are nodes, what are edges?\n",
    "* Squeeze in some graph theory in there\n",
    "* People, posts... then pages, communities, links co-shared etc\n",
    "* No FB token sharing, API limits will easily be exceeded (Pedro said)\n",
    "\n",
    "* Failure mode: other modules of Netvizz"
   ]
  },
  {
   "cell_type": "markdown",
   "metadata": {
    "slideshow": {
     "slide_type": "slide"
    }
   },
   "source": [
    "# Another scraping tool: `fb_scraper`\n",
    "\n",
    "[Designed and programmed](https://github.com/bacilo/facebook-scraper/) by Pedro.\n",
    "\n",
    "1. Co-reaction: users connect posts with the same reaction\n",
    "1. User co-interaction: users interact on same posts\n",
    "1. Extendability"
   ]
  },
  {
   "cell_type": "markdown",
   "metadata": {
    "slideshow": {
     "slide_type": "slide"
    }
   },
   "source": [
    "## The steps\n",
    "\n",
    "1. Become a Facebook developer\n",
    "1. Set up a Facebook app and API token\n",
    "1. Download `fb_scraper`\n",
    "1. Connect `fb_scraper` to this Notebook\n",
    "1. Set up scrape manager\n",
    "1. Set up jobs\n",
    "1. Run jobs\n",
    "1. Collect output\n",
    "1. Further analysis"
   ]
  },
  {
   "cell_type": "markdown",
   "metadata": {
    "slideshow": {
     "slide_type": "slide"
    }
   },
   "source": [
    "![](https://i.giphy.com/PuWNMebKGIKNG.gif)"
   ]
  },
  {
   "cell_type": "markdown",
   "metadata": {
    "slideshow": {
     "slide_type": "slide"
    }
   },
   "source": [
    "## 1. Become a Facebook developer\n",
    "\n",
    "Apply to be a [Facebook developer](http://developers.facebook.com/)."
   ]
  },
  {
   "cell_type": "markdown",
   "metadata": {
    "slideshow": {
     "slide_type": "slide"
    }
   },
   "source": [
    "## 2. Set up a Facebook app and get API token\n",
    "\n",
    "* Make an app https://developers.facebook.com/apps/\n",
    "* Get an API token https://developers.facebook.com/tools/explorer/"
   ]
  },
  {
   "cell_type": "markdown",
   "metadata": {
    "slideshow": {
     "slide_type": "slide"
    }
   },
   "source": [
    "## 3. Download `fb_scraper`\n",
    "\n",
    "We download with *git*. Run these in Terminal\n",
    "    \n",
    "    git clone https://github.com/bacilo/facebook-scraper.git\n",
    "    cd facebook-scraper\n",
    "    git checkout incorporate"
   ]
  },
  {
   "cell_type": "markdown",
   "metadata": {
    "slideshow": {
     "slide_type": "slide"
    }
   },
   "source": [
    "## 4. Connect `fb_scraper` to this Notebook"
   ]
  },
  {
   "cell_type": "code",
   "execution_count": 1,
   "metadata": {
    "slideshow": {
     "slide_type": "skip"
    }
   },
   "outputs": [],
   "source": [
    "import sys"
   ]
  },
  {
   "cell_type": "code",
   "execution_count": 2,
   "metadata": {
    "slideshow": {
     "slide_type": "skip"
    }
   },
   "outputs": [],
   "source": [
    "sys.path.append('../../../facebook-scraper')"
   ]
  },
  {
   "cell_type": "code",
   "execution_count": 3,
   "metadata": {
    "slideshow": {
     "slide_type": "fragment"
    }
   },
   "outputs": [],
   "source": [
    "import fb_scraper\n",
    "import fb_scraper.prodcons\n",
    "import fb_scraper.job"
   ]
  },
  {
   "cell_type": "markdown",
   "metadata": {
    "slideshow": {
     "slide_type": "fragment"
    }
   },
   "source": [
    "Store the API token from *2.* in a file called `config.ini`, which should contain the following two lines\n",
    "\n",
    "    [creds]\n",
    "    access_token = yourTokenHere\n"
   ]
  },
  {
   "cell_type": "markdown",
   "metadata": {
    "slideshow": {
     "slide_type": "slide"
    }
   },
   "source": [
    "## 5. Set up scrape manager"
   ]
  },
  {
   "cell_type": "markdown",
   "metadata": {
    "slideshow": {
     "slide_type": "skip"
    }
   },
   "source": [
    "Read the API token into Python"
   ]
  },
  {
   "cell_type": "code",
   "execution_count": 4,
   "metadata": {
    "slideshow": {
     "slide_type": "skip"
    }
   },
   "outputs": [],
   "source": [
    "import configparser"
   ]
  },
  {
   "cell_type": "code",
   "execution_count": 5,
   "metadata": {
    "slideshow": {
     "slide_type": "skip"
    }
   },
   "outputs": [],
   "source": [
    "config = configparser.ConfigParser()\n",
    "config.read(\"config.ini\")\n",
    "creds = config[\"creds\"]"
   ]
  },
  {
   "cell_type": "markdown",
   "metadata": {
    "slideshow": {
     "slide_type": "fragment"
    }
   },
   "source": [
    "Create a *manager*, a software object which runs the scrapes."
   ]
  },
  {
   "cell_type": "code",
   "execution_count": 6,
   "metadata": {
    "slideshow": {
     "slide_type": "fragment"
    }
   },
   "outputs": [],
   "source": [
    "mgr = fb_scraper.prodcons.Manager(dict(creds))"
   ]
  },
  {
   "cell_type": "markdown",
   "metadata": {
    "slideshow": {
     "slide_type": "slide"
    }
   },
   "source": [
    "## 6. Set up jobs\n",
    "\n",
    "The `fb_scraper` can do five kinds of *jobs*:\n",
    "* FeedJob\n",
    "* GroupJob\n",
    "* PageJob\n",
    "* PostJob\n",
    "* GraphFromPageJob\n",
    "\n",
    "Create a `PageJob`"
   ]
  },
  {
   "cell_type": "code",
   "execution_count": 7,
   "metadata": {
    "slideshow": {
     "slide_type": "fragment"
    }
   },
   "outputs": [],
   "source": [
    "ethospagejob = fb_scraper.job.PageJob(node_id=\"822254694506527\")"
   ]
  },
  {
   "cell_type": "markdown",
   "metadata": {
    "slideshow": {
     "slide_type": "skip"
    }
   },
   "source": [
    "Pass it to the manager"
   ]
  },
  {
   "cell_type": "code",
   "execution_count": 8,
   "metadata": {
    "slideshow": {
     "slide_type": "fragment"
    }
   },
   "outputs": [],
   "source": [
    "mgr.add_job(ethospagejob)"
   ]
  },
  {
   "cell_type": "markdown",
   "metadata": {
    "slideshow": {
     "slide_type": "slide"
    }
   },
   "source": [
    "## 7. Run jobs"
   ]
  },
  {
   "cell_type": "code",
   "execution_count": 9,
   "metadata": {
    "slideshow": {
     "slide_type": "subslide"
    }
   },
   "outputs": [
    {
     "name": "stderr",
     "output_type": "stream",
     "text": [
      "(Thread-4  - check_jobs_statuses): Job page_feed_822254694506527, total: 0 responses,1 requests,\n",
      "(Thread-5  - run): About to send 1 requests\n",
      "(Thread-5  - run): queued 1 responses received\n",
      "(Thread-4  - check_jobs_statuses): Job page_feed_822254694506527, total: 0 responses,1 requests,1 responses_queued,\n",
      "(Thread-4  - check_jobs_statuses): Job page_feed_822254694506527, total: 1 responses,6 requests,1 responses_queued,97 attachments,100 posts,499 reactions,40 comm,4 sharedposts,\n",
      "(Thread-8  - run): About to send 5 requests\n",
      "(Thread-8  - run): queued 3 responses received\n",
      "(Thread-4  - check_jobs_statuses): Job page_feed_822254694506527, total: 2 responses,11 requests,4 responses_queued,194 attachments,200 posts,1400 reactions,100 comm,10 sharedposts,\n",
      "(Thread-4  - check_jobs_statuses): Job page_feed_822254694506527, total: 3 responses,11 requests,4 responses_queued,194 attachments,200 posts,1400 reactions,100 comm,10 sharedposts,\n",
      "(Thread-4  - check_jobs_statuses): Job page_feed_822254694506527, total: 4 responses,11 requests,4 responses_queued,194 attachments,200 posts,1400 reactions,100 comm,10 sharedposts,\n",
      "(Thread-7  - run): About to send 5 requests\n",
      "(Thread-8  - run): About to send 2 requests\n",
      "(Thread-8  - run): queued 1 responses received\n",
      "(Thread-4  - check_jobs_statuses): Job page_feed_822254694506527, total: 4 responses,11 requests,5 responses_queued,194 attachments,200 posts,1400 reactions,100 comm,10 sharedposts,\n",
      "(Thread-4  - check_jobs_statuses): Job page_feed_822254694506527, total: 5 responses,11 requests,5 responses_queued,194 attachments,200 posts,1401 reactions,100 comm,10 sharedposts,\n",
      "(Thread-7  - run): queued 3 responses received\n",
      "(Thread-4  - check_jobs_statuses): Job page_feed_822254694506527, total: 5 responses,11 requests,8 responses_queued,194 attachments,200 posts,1401 reactions,100 comm,10 sharedposts,\n",
      "(Thread-8  - run): About to send 1 requests\n",
      "(Thread-4  - check_jobs_statuses): Job page_feed_822254694506527, total: 6 responses,14 requests,8 responses_queued,288 attachments,300 posts,1490 reactions,102 comm,12 sharedposts,\n",
      "(Thread-4  - check_jobs_statuses): Job page_feed_822254694506527, total: 7 responses,14 requests,8 responses_queued,288 attachments,300 posts,1494 reactions,102 comm,12 sharedposts,\n",
      "(Thread-4  - check_jobs_statuses): Job page_feed_822254694506527, total: 8 responses,14 requests,8 responses_queued,288 attachments,300 posts,1494 reactions,102 comm,12 sharedposts,\n",
      "(Thread-8  - run): queued 1 responses received\n",
      "(Thread-4  - check_jobs_statuses): Job page_feed_822254694506527, total: 9 responses,14 requests,9 responses_queued,288 attachments,300 posts,1494 reactions,102 comm,12 sharedposts,\n",
      "(Thread-6  - run): About to send 3 requests\n",
      "(Thread-7  - run): About to send 2 requests\n",
      "(Thread-7  - run): queued 1 responses received\n",
      "(Thread-4  - check_jobs_statuses): Job page_feed_822254694506527, total: 9 responses,14 requests,10 responses_queued,288 attachments,300 posts,1494 reactions,102 comm,12 sharedposts,\n",
      "(Thread-4  - check_jobs_statuses): Job page_feed_822254694506527, total: 10 responses,14 requests,10 responses_queued,288 attachments,300 posts,1494 reactions,102 comm,12 sharedposts,\n",
      "(Thread-6  - run): queued 2 responses received\n",
      "(Thread-4  - check_jobs_statuses): Job page_feed_822254694506527, total: 11 responses,15 requests,12 responses_queued,347 attachments,360 posts,1632 reactions,106 comm,13 sharedposts,\n",
      "(Thread-4  - check_jobs_statuses): Job page_feed_822254694506527, total: 12 responses,15 requests,12 responses_queued,347 attachments,360 posts,1632 reactions,106 comm,13 sharedposts,\n",
      "(Thread-7  - run): About to send 2 requests\n",
      "(Thread-7  - run): queued 1 responses received\n",
      "(Thread-4  - check_jobs_statuses): Job page_feed_822254694506527, total: 12 responses,15 requests,13 responses_queued,347 attachments,360 posts,1632 reactions,106 comm,13 sharedposts,\n",
      "(Thread-4  - check_jobs_statuses): Job page_feed_822254694506527, total: 13 responses,15 requests,13 responses_queued,347 attachments,360 posts,1676 reactions,106 comm,13 sharedposts,\n",
      "(Thread-6  - run): About to send 1 requests\n",
      "(Thread-6  - run): queued 1 responses received\n",
      "(Thread-4  - check_jobs_statuses): Job page_feed_822254694506527, total: 14 responses,15 requests,14 responses_queued,347 attachments,360 posts,1676 reactions,106 comm,13 sharedposts,\n",
      "(Thread-7  - run): About to send 1 requests\n",
      "(Thread-7  - run): queued 1 responses received\n",
      "(Thread-4  - check_jobs_statuses): Job page_feed_822254694506527, total: 15 responses,15 requests,15 responses_queued,347 attachments,360 posts,1676 reactions,106 comm,13 sharedposts,\n",
      "(Thread-4  - check_jobs_statuses): Job 2017-11-08_22_01_17_808587_page_feed_822254694506527 has finished!\n"
     ]
    }
   ],
   "source": [
    "mgr.start()"
   ]
  },
  {
   "cell_type": "markdown",
   "metadata": {
    "slideshow": {
     "slide_type": "slide"
    }
   },
   "source": [
    "## 8. Collect output\n",
    "\n",
    "Find the output in subdirectories of *output*, one for each job. You can open them with Tableau or whatever suits your fancy"
   ]
  },
  {
   "cell_type": "code",
   "execution_count": 10,
   "metadata": {
    "slideshow": {
     "slide_type": "skip"
    }
   },
   "outputs": [],
   "source": [
    "def get_job_filepath(job, dataset):\n",
    "    \"\"\"Get a dataset file path of job\"\"\"\n",
    "    assert dataset in job.writers, \"Job {} does not contain dataset {}\".format(job.job_id, dataset)\n",
    "    return \"\".join([job.writers[dataset].path, job.writers[dataset].file_name])"
   ]
  },
  {
   "cell_type": "code",
   "execution_count": 11,
   "metadata": {
    "slideshow": {
     "slide_type": "skip"
    }
   },
   "outputs": [],
   "source": [
    "import pandas as pd\n",
    "%matplotlib inline"
   ]
  },
  {
   "cell_type": "markdown",
   "metadata": {
    "slideshow": {
     "slide_type": "skip"
    }
   },
   "source": [
    "Let's see what did we acquire."
   ]
  },
  {
   "cell_type": "code",
   "execution_count": 12,
   "metadata": {
    "slideshow": {
     "slide_type": "skip"
    }
   },
   "outputs": [],
   "source": [
    "ethosposts = pd.read_csv(get_job_filepath(ethospagejob, 'posts'),\n",
    "                         parse_dates=['created_time', 'updated_time'], skipfooter=1, engine=\"python\")"
   ]
  },
  {
   "cell_type": "code",
   "execution_count": 13,
   "metadata": {
    "slideshow": {
     "slide_type": "fragment"
    }
   },
   "outputs": [
    {
     "data": {
      "text/plain": [
       "(359, 18)"
      ]
     },
     "execution_count": 13,
     "metadata": {},
     "output_type": "execute_result"
    }
   ],
   "source": [
    "ethosposts.shape"
   ]
  },
  {
   "cell_type": "code",
   "execution_count": 14,
   "metadata": {
    "slideshow": {
     "slide_type": "fragment"
    }
   },
   "outputs": [
    {
     "data": {
      "text/html": [
       "<div>\n",
       "<style scoped>\n",
       "    .dataframe tbody tr th:only-of-type {\n",
       "        vertical-align: middle;\n",
       "    }\n",
       "\n",
       "    .dataframe tbody tr th {\n",
       "        vertical-align: top;\n",
       "    }\n",
       "\n",
       "    .dataframe thead th {\n",
       "        text-align: right;\n",
       "    }\n",
       "</style>\n",
       "<table border=\"1\" class=\"dataframe\">\n",
       "  <thead>\n",
       "    <tr style=\"text-align: right;\">\n",
       "      <th></th>\n",
       "      <th>id</th>\n",
       "      <th>story</th>\n",
       "      <th>created_time</th>\n",
       "      <th>message</th>\n",
       "      <th>picture</th>\n",
       "      <th>caption</th>\n",
       "      <th>description</th>\n",
       "      <th>from_id</th>\n",
       "      <th>from_name</th>\n",
       "      <th>name</th>\n",
       "      <th>object_id</th>\n",
       "      <th>parent_id</th>\n",
       "      <th>source</th>\n",
       "      <th>status_type</th>\n",
       "      <th>link</th>\n",
       "      <th>type</th>\n",
       "      <th>updated_time</th>\n",
       "      <th>shares_count</th>\n",
       "    </tr>\n",
       "  </thead>\n",
       "  <tbody>\n",
       "    <tr>\n",
       "      <th>38</th>\n",
       "      <td>822254694506527_1333878410010817</td>\n",
       "      <td>NaN</td>\n",
       "      <td>2017-05-22 16:41:15</td>\n",
       "      <td>Melissa Gregg is joining us the next couple of...</td>\n",
       "      <td>https://scontent.xx.fbcdn.net/v/t1.0-0/c35.0.1...</td>\n",
       "      <td>PublicETHOS#20 w/Melissa Gregg</td>\n",
       "      <td>When: 23 May from 13-14:00\\nWhere: IT Universi...</td>\n",
       "      <td>822254694506527</td>\n",
       "      <td>ETHOS Lab</td>\n",
       "      <td>PublicETHOS#20 w/Melissa Gregg</td>\n",
       "      <td>2.041214e+14</td>\n",
       "      <td>NaN</td>\n",
       "      <td>NaN</td>\n",
       "      <td>shared_story</td>\n",
       "      <td>https://www.facebook.com/events/204121426772848/</td>\n",
       "      <td>event</td>\n",
       "      <td>2017-05-22 16:41:15</td>\n",
       "      <td>0</td>\n",
       "    </tr>\n",
       "    <tr>\n",
       "      <th>272</th>\n",
       "      <td>822254694506527_896703193728343</td>\n",
       "      <td>NaN</td>\n",
       "      <td>2015-10-12 08:30:00</td>\n",
       "      <td>Here are 20 stats that should convince anyone ...</td>\n",
       "      <td>https://external.xx.fbcdn.net/safe_image.php?d...</td>\n",
       "      <td>forbes.com</td>\n",
       "      <td>Big data is not a fad. We are just at the begi...</td>\n",
       "      <td>822254694506527</td>\n",
       "      <td>ETHOS Lab</td>\n",
       "      <td>Big Data: 20 Mind-Boggling Facts Everyone Must...</td>\n",
       "      <td>NaN</td>\n",
       "      <td>NaN</td>\n",
       "      <td>NaN</td>\n",
       "      <td>shared_story</td>\n",
       "      <td>http://www.forbes.com/sites/bernardmarr/2015/0...</td>\n",
       "      <td>link</td>\n",
       "      <td>2015-10-12 08:30:00</td>\n",
       "      <td>0</td>\n",
       "    </tr>\n",
       "    <tr>\n",
       "      <th>271</th>\n",
       "      <td>822254694506527_897489013649761</td>\n",
       "      <td>NaN</td>\n",
       "      <td>2015-10-13 08:00:00</td>\n",
       "      <td>Want to know how the Culture Night 2015 went? ...</td>\n",
       "      <td>https://external.xx.fbcdn.net/safe_image.php?d...</td>\n",
       "      <td>ethos.itu.dk</td>\n",
       "      <td>October 13, 2015 kristineolsen Blog No Comment...</td>\n",
       "      <td>822254694506527</td>\n",
       "      <td>ETHOS Lab</td>\n",
       "      <td>ETHOSLAB at #kulturnatten2015</td>\n",
       "      <td>NaN</td>\n",
       "      <td>NaN</td>\n",
       "      <td>NaN</td>\n",
       "      <td>shared_story</td>\n",
       "      <td>https://ethos.itu.dk/2015/10/13/ethoslab-at-ku...</td>\n",
       "      <td>link</td>\n",
       "      <td>2015-10-13 08:00:00</td>\n",
       "      <td>0</td>\n",
       "    </tr>\n",
       "  </tbody>\n",
       "</table>\n",
       "</div>"
      ],
      "text/plain": [
       "                                   id  story        created_time  \\\n",
       "38   822254694506527_1333878410010817    NaN 2017-05-22 16:41:15   \n",
       "272   822254694506527_896703193728343    NaN 2015-10-12 08:30:00   \n",
       "271   822254694506527_897489013649761    NaN 2015-10-13 08:00:00   \n",
       "\n",
       "                                               message  \\\n",
       "38   Melissa Gregg is joining us the next couple of...   \n",
       "272  Here are 20 stats that should convince anyone ...   \n",
       "271  Want to know how the Culture Night 2015 went? ...   \n",
       "\n",
       "                                               picture  \\\n",
       "38   https://scontent.xx.fbcdn.net/v/t1.0-0/c35.0.1...   \n",
       "272  https://external.xx.fbcdn.net/safe_image.php?d...   \n",
       "271  https://external.xx.fbcdn.net/safe_image.php?d...   \n",
       "\n",
       "                            caption  \\\n",
       "38   PublicETHOS#20 w/Melissa Gregg   \n",
       "272                      forbes.com   \n",
       "271                    ethos.itu.dk   \n",
       "\n",
       "                                           description          from_id  \\\n",
       "38   When: 23 May from 13-14:00\\nWhere: IT Universi...  822254694506527   \n",
       "272  Big data is not a fad. We are just at the begi...  822254694506527   \n",
       "271  October 13, 2015 kristineolsen Blog No Comment...  822254694506527   \n",
       "\n",
       "     from_name                                               name  \\\n",
       "38   ETHOS Lab                     PublicETHOS#20 w/Melissa Gregg   \n",
       "272  ETHOS Lab  Big Data: 20 Mind-Boggling Facts Everyone Must...   \n",
       "271  ETHOS Lab                      ETHOSLAB at #kulturnatten2015   \n",
       "\n",
       "        object_id parent_id source   status_type  \\\n",
       "38   2.041214e+14       NaN    NaN  shared_story   \n",
       "272           NaN       NaN    NaN  shared_story   \n",
       "271           NaN       NaN    NaN  shared_story   \n",
       "\n",
       "                                                  link   type  \\\n",
       "38    https://www.facebook.com/events/204121426772848/  event   \n",
       "272  http://www.forbes.com/sites/bernardmarr/2015/0...   link   \n",
       "271  https://ethos.itu.dk/2015/10/13/ethoslab-at-ku...   link   \n",
       "\n",
       "           updated_time  shares_count  \n",
       "38  2017-05-22 16:41:15             0  \n",
       "272 2015-10-12 08:30:00             0  \n",
       "271 2015-10-13 08:00:00             0  "
      ]
     },
     "execution_count": 14,
     "metadata": {},
     "output_type": "execute_result"
    }
   ],
   "source": [
    "ethosposts.sample(3)"
   ]
  },
  {
   "cell_type": "code",
   "execution_count": 15,
   "metadata": {
    "slideshow": {
     "slide_type": "subslide"
    }
   },
   "outputs": [
    {
     "data": {
      "image/png": "[encoded data removed]",
      "text/plain": [
       "<matplotlib.figure.Figure at 0x10a8ee358>"
      ]
     },
     "metadata": {},
     "output_type": "display_data"
    }
   ],
   "source": [
    "ethosposts.type.value_counts().plot.pie(autopct='%.2f', figsize=(6, 6));"
   ]
  },
  {
   "cell_type": "markdown",
   "metadata": {
    "slideshow": {
     "slide_type": "slide"
    }
   },
   "source": [
    "Did we make it so far? Brilliant!\n",
    "\n",
    "Compare output with Netvizz files. What columns?"
   ]
  },
  {
   "cell_type": "markdown",
   "metadata": {
    "slideshow": {
     "slide_type": "slide"
    }
   },
   "source": [
    "## 9.1 Analysis: co-reaction graph"
   ]
  },
  {
   "cell_type": "code",
   "execution_count": 16,
   "metadata": {
    "slideshow": {
     "slide_type": "skip"
    }
   },
   "outputs": [],
   "source": [
    "import load_csv\n",
    "from fb_gexf.fbgexf import GexfManager, CoReactionGraph, UserCoInteractionGraph"
   ]
  },
  {
   "cell_type": "code",
   "execution_count": 17,
   "metadata": {
    "slideshow": {
     "slide_type": "fragment"
    }
   },
   "outputs": [
    {
     "name": "stdout",
     "output_type": "stream",
     "text": [
      "\n",
      "    The idea is to generate a graph where:\n",
      "\n",
      "    Nodes: posts\n",
      "    Edges: there is a connection between two nodes, if a certain user has the\n",
      "        same reaction to both posts (i.e. 'LOVE's them both or comments both\n",
      "        for instance)\n",
      "    \n"
     ]
    }
   ],
   "source": [
    "print(CoReactionGraph.__doc__)"
   ]
  },
  {
   "cell_type": "code",
   "execution_count": 18,
   "metadata": {
    "slideshow": {
     "slide_type": "skip"
    }
   },
   "outputs": [],
   "source": [
    "def write_graph(job, gtype):\n",
    "    \"\"\"Write out a graph of type CoReactionGraph of UserCoInteractionGraph for job\"\"\"\n",
    "    assert isinstance(job, fb_scraper.job.Job)\n",
    "    assert gtype in ['CoReactionGraph', 'UserCoInteractionGraph']\n",
    "    \n",
    "    gmgr = GexfManager()\n",
    "    posts = load_csv.load_posts(get_job_filepath(job, 'posts'))\n",
    "    comments = load_csv.load_comments(get_job_filepath(job, 'comments'))\n",
    "    reactions = load_csv.load_reactions(get_job_filepath(job, 'reactions'))\n",
    "    gpath = job.writers['posts'].path\n",
    "\n",
    "    if gtype == 'CoReactionGraph':\n",
    "        gmgr.add_method(CoReactionGraph(gpath))\n",
    "    elif gtype == 'UserCoInteractionGraph':\n",
    "        gmgr.add_method(UserCoInteractionGraph(gpath))\n",
    "\n",
    "    gmgr.load(posts, comments, reactions)\n",
    "    \n",
    "    gmgr.write()"
   ]
  },
  {
   "cell_type": "code",
   "execution_count": 19,
   "metadata": {
    "slideshow": {
     "slide_type": "subslide"
    }
   },
   "outputs": [
    {
     "name": "stdout",
     "output_type": "stream",
     "text": [
      "adding reactions\n",
      "adding comments\n",
      "adding posts\n",
      "performing analysis... this one might take a while for large datasets\n",
      "processed 1 of 45 comments            \n",
      "processed 2 of 45 comments            \n",
      "processed 3 of 45 comments            \n",
      "processed 4 of 45 comments            \n",
      "processed 5 of 45 comments            \n",
      "processed 6 of 45 comments            \n",
      "processed 7 of 45 comments            \n",
      "processed 8 of 45 comments            \n",
      "processed 9 of 45 comments            \n",
      "processed 10 of 45 comments            \n",
      "processed 11 of 45 comments            \n",
      "processed 12 of 45 comments            \n",
      "processed 13 of 45 comments            \n",
      "processed 14 of 45 comments            \n",
      "processed 15 of 45 comments            \n",
      "processed 16 of 45 comments            \n",
      "processed 17 of 45 comments            \n",
      "processed 18 of 45 comments            \n",
      "processed 19 of 45 comments            \n",
      "processed 20 of 45 comments            \n",
      "processed 21 of 45 comments            \n",
      "processed 22 of 45 comments            \n",
      "processed 23 of 45 comments            \n",
      "processed 24 of 45 comments            \n",
      "processed 25 of 45 comments            \n",
      "processed 26 of 45 comments            \n",
      "processed 27 of 45 comments            \n",
      "processed 28 of 45 comments            \n",
      "processed 29 of 45 comments            \n",
      "processed 30 of 45 comments            \n",
      "processed 31 of 45 comments            \n",
      "processed 32 of 45 comments            \n",
      "processed 33 of 45 comments            \n",
      "processed 34 of 45 comments            \n",
      "processed 35 of 45 comments            \n",
      "processed 36 of 45 comments            \n",
      "processed 37 of 45 comments            \n",
      "processed 38 of 45 comments            \n",
      "processed 39 of 45 comments            \n",
      "processed 40 of 45 comments            \n",
      "processed 41 of 45 comments            \n",
      "processed 42 of 45 comments            \n",
      "processed 43 of 45 comments            \n",
      "processed 44 of 45 comments            \n",
      "processed 45 of 45 comments            \n",
      "processed 1 of 434 reactions               \n",
      "processed 2 of 434 reactions               \n",
      "processed 3 of 434 reactions               \n",
      "processed 4 of 434 reactions               \n",
      "processed 5 of 434 reactions               \n",
      "processed 6 of 434 reactions               \n",
      "processed 7 of 434 reactions               \n",
      "processed 8 of 434 reactions               \n",
      "processed 9 of 434 reactions               \n",
      "processed 10 of 434 reactions               \n",
      "processed 11 of 434 reactions               \n",
      "processed 12 of 434 reactions               \n",
      "processed 13 of 434 reactions               \n",
      "processed 14 of 434 reactions               \n",
      "processed 15 of 434 reactions               \n",
      "processed 16 of 434 reactions               \n",
      "processed 17 of 434 reactions               \n",
      "processed 18 of 434 reactions               \n",
      "processed 19 of 434 reactions               \n",
      "processed 20 of 434 reactions               \n",
      "processed 21 of 434 reactions               \n",
      "processed 22 of 434 reactions               \n",
      "processed 23 of 434 reactions               \n",
      "processed 24 of 434 reactions               \n",
      "processed 25 of 434 reactions               \n",
      "processed 26 of 434 reactions               \n",
      "processed 27 of 434 reactions               \n",
      "processed 28 of 434 reactions               \n",
      "processed 29 of 434 reactions               \n",
      "processed 30 of 434 reactions               \n",
      "processed 31 of 434 reactions               \n",
      "processed 32 of 434 reactions               \n",
      "processed 33 of 434 reactions               \n",
      "processed 34 of 434 reactions               \n",
      "processed 35 of 434 reactions               \n",
      "processed 36 of 434 reactions               \n",
      "processed 37 of 434 reactions               \n",
      "processed 38 of 434 reactions               \n",
      "processed 39 of 434 reactions               \n",
      "processed 40 of 434 reactions               \n",
      "processed 41 of 434 reactions               \n",
      "processed 42 of 434 reactions               \n",
      "processed 43 of 434 reactions               \n",
      "processed 44 of 434 reactions               \n",
      "processed 45 of 434 reactions               \n",
      "processed 46 of 434 reactions               \n",
      "processed 47 of 434 reactions               \n",
      "processed 48 of 434 reactions               \n",
      "processed 49 of 434 reactions               \n",
      "processed 50 of 434 reactions               \n",
      "processed 51 of 434 reactions               \n",
      "processed 52 of 434 reactions               \n",
      "processed 53 of 434 reactions               \n",
      "processed 54 of 434 reactions               \n",
      "processed 55 of 434 reactions               \n",
      "processed 56 of 434 reactions               \n",
      "processed 57 of 434 reactions               \n",
      "processed 58 of 434 reactions               \n",
      "processed 59 of 434 reactions               \n",
      "processed 60 of 434 reactions               \n",
      "processed 61 of 434 reactions               \n",
      "processed 62 of 434 reactions               \n",
      "processed 63 of 434 reactions               \n",
      "processed 64 of 434 reactions               \n",
      "processed 65 of 434 reactions               \n",
      "processed 66 of 434 reactions               \n",
      "processed 67 of 434 reactions               \n",
      "processed 68 of 434 reactions               \n",
      "processed 69 of 434 reactions               \n",
      "processed 70 of 434 reactions               \n",
      "processed 71 of 434 reactions               \n",
      "processed 72 of 434 reactions               \n",
      "processed 73 of 434 reactions               \n",
      "processed 74 of 434 reactions               \n",
      "processed 75 of 434 reactions               \n",
      "processed 76 of 434 reactions               \n",
      "processed 77 of 434 reactions               \n",
      "processed 78 of 434 reactions               \n",
      "processed 79 of 434 reactions               \n",
      "processed 80 of 434 reactions               \n",
      "processed 81 of 434 reactions               \n",
      "processed 82 of 434 reactions               \n",
      "processed 83 of 434 reactions               \n",
      "processed 84 of 434 reactions               \n",
      "processed 85 of 434 reactions               \n",
      "processed 86 of 434 reactions               \n",
      "processed 87 of 434 reactions               \n",
      "processed 88 of 434 reactions               \n",
      "processed 89 of 434 reactions               \n",
      "processed 90 of 434 reactions               \n",
      "processed 91 of 434 reactions               \n",
      "processed 92 of 434 reactions               \n",
      "processed 93 of 434 reactions               \n",
      "processed 94 of 434 reactions               \n",
      "processed 95 of 434 reactions               \n",
      "processed 96 of 434 reactions               \n",
      "processed 97 of 434 reactions               \n",
      "processed 98 of 434 reactions               \n",
      "processed 99 of 434 reactions               \n",
      "processed 100 of 434 reactions               \n",
      "processed 101 of 434 reactions               \n",
      "processed 102 of 434 reactions               \n",
      "processed 103 of 434 reactions               \n",
      "processed 104 of 434 reactions               \n",
      "processed 105 of 434 reactions               \n",
      "processed 106 of 434 reactions               \n",
      "processed 107 of 434 reactions               \n",
      "processed 108 of 434 reactions               \n",
      "processed 109 of 434 reactions               \n",
      "processed 110 of 434 reactions               \n",
      "processed 111 of 434 reactions               \n",
      "processed 112 of 434 reactions               \n",
      "processed 113 of 434 reactions               \n",
      "processed 114 of 434 reactions               \n",
      "processed 115 of 434 reactions               \n",
      "processed 116 of 434 reactions               \n",
      "processed 117 of 434 reactions               \n",
      "processed 118 of 434 reactions               \n",
      "processed 119 of 434 reactions               \n",
      "processed 120 of 434 reactions               \n",
      "processed 121 of 434 reactions               \n",
      "processed 122 of 434 reactions               \n",
      "processed 123 of 434 reactions               \n",
      "processed 124 of 434 reactions               \n",
      "processed 125 of 434 reactions               \n",
      "processed 126 of 434 reactions               \n",
      "processed 127 of 434 reactions               \n",
      "processed 128 of 434 reactions               \n",
      "processed 129 of 434 reactions               \n",
      "processed 130 of 434 reactions               \n",
      "processed 131 of 434 reactions               \n",
      "processed 132 of 434 reactions               \n",
      "processed 133 of 434 reactions               \n",
      "processed 134 of 434 reactions               \n",
      "processed 135 of 434 reactions               \n",
      "processed 136 of 434 reactions               \n",
      "processed 137 of 434 reactions               \n",
      "processed 138 of 434 reactions               \n",
      "processed 139 of 434 reactions               \n",
      "processed 140 of 434 reactions               \n",
      "processed 141 of 434 reactions               \n",
      "processed 142 of 434 reactions               \n",
      "processed 143 of 434 reactions               \n",
      "processed 144 of 434 reactions               \n",
      "processed 145 of 434 reactions               \n",
      "processed 146 of 434 reactions               \n",
      "processed 147 of 434 reactions               \n",
      "processed 148 of 434 reactions               \n",
      "processed 149 of 434 reactions               \n",
      "processed 150 of 434 reactions               \n",
      "processed 151 of 434 reactions               \n",
      "processed 152 of 434 reactions               \n",
      "processed 153 of 434 reactions               \n",
      "processed 154 of 434 reactions               \n",
      "processed 155 of 434 reactions               \n",
      "processed 156 of 434 reactions               \n",
      "processed 157 of 434 reactions               \n",
      "processed 158 of 434 reactions               \n",
      "processed 159 of 434 reactions               \n",
      "processed 160 of 434 reactions               \n",
      "processed 161 of 434 reactions               \n",
      "processed 162 of 434 reactions               \n",
      "processed 163 of 434 reactions               \n",
      "processed 164 of 434 reactions               \n",
      "processed 165 of 434 reactions               \n",
      "processed 166 of 434 reactions               \n",
      "processed 167 of 434 reactions               \n",
      "processed 168 of 434 reactions               \n",
      "processed 169 of 434 reactions               \n",
      "processed 170 of 434 reactions               \n",
      "processed 171 of 434 reactions               \n",
      "processed 172 of 434 reactions               \n",
      "processed 173 of 434 reactions               \n",
      "processed 174 of 434 reactions               \n",
      "processed 175 of 434 reactions               \n",
      "processed 176 of 434 reactions               \n",
      "processed 177 of 434 reactions               \n",
      "processed 178 of 434 reactions               \n",
      "processed 179 of 434 reactions               \n",
      "processed 180 of 434 reactions               \n",
      "processed 181 of 434 reactions               \n",
      "processed 182 of 434 reactions               \n",
      "processed 183 of 434 reactions               \n",
      "processed 184 of 434 reactions               \n",
      "processed 185 of 434 reactions               \n",
      "processed 186 of 434 reactions               \n",
      "processed 187 of 434 reactions               \n",
      "processed 188 of 434 reactions               \n",
      "processed 189 of 434 reactions               \n",
      "processed 190 of 434 reactions               \n",
      "processed 191 of 434 reactions               \n",
      "processed 192 of 434 reactions               \n",
      "processed 193 of 434 reactions               \n",
      "processed 194 of 434 reactions               \n",
      "processed 195 of 434 reactions               \n",
      "processed 196 of 434 reactions               \n",
      "processed 197 of 434 reactions               \n",
      "processed 198 of 434 reactions               \n",
      "processed 199 of 434 reactions               \n",
      "processed 200 of 434 reactions               \n",
      "processed 201 of 434 reactions               \n",
      "processed 202 of 434 reactions               \n",
      "processed 203 of 434 reactions               \n",
      "processed 204 of 434 reactions               \n",
      "processed 205 of 434 reactions               \n",
      "processed 206 of 434 reactions               \n",
      "processed 207 of 434 reactions               \n",
      "processed 208 of 434 reactions               \n",
      "processed 209 of 434 reactions               \n",
      "processed 210 of 434 reactions               \n",
      "processed 211 of 434 reactions               \n",
      "processed 212 of 434 reactions               \n",
      "processed 213 of 434 reactions               \n",
      "processed 214 of 434 reactions               \n",
      "processed 215 of 434 reactions               \n",
      "processed 216 of 434 reactions               \n",
      "processed 217 of 434 reactions               \n",
      "processed 218 of 434 reactions               \n",
      "processed 219 of 434 reactions               \n",
      "processed 220 of 434 reactions               \n",
      "processed 221 of 434 reactions               \n",
      "processed 222 of 434 reactions               \n",
      "processed 223 of 434 reactions               \n",
      "processed 224 of 434 reactions               \n",
      "processed 225 of 434 reactions               \n",
      "processed 226 of 434 reactions               \n",
      "processed 227 of 434 reactions               \n",
      "processed 228 of 434 reactions               \n",
      "processed 229 of 434 reactions               \n",
      "processed 230 of 434 reactions               \n",
      "processed 231 of 434 reactions               \n",
      "processed 232 of 434 reactions               \n",
      "processed 233 of 434 reactions               \n",
      "processed 234 of 434 reactions               \n",
      "processed 235 of 434 reactions               \n",
      "processed 236 of 434 reactions               \n",
      "processed 237 of 434 reactions               \n",
      "processed 238 of 434 reactions               \n",
      "processed 239 of 434 reactions               \n",
      "processed 240 of 434 reactions               \n",
      "processed 241 of 434 reactions               \n",
      "processed 242 of 434 reactions               \n",
      "processed 243 of 434 reactions               \n",
      "processed 244 of 434 reactions               \n",
      "processed 245 of 434 reactions               \n",
      "processed 246 of 434 reactions               \n",
      "processed 247 of 434 reactions               \n",
      "processed 248 of 434 reactions               \n",
      "processed 249 of 434 reactions               \n",
      "processed 250 of 434 reactions               \n",
      "processed 251 of 434 reactions               \n",
      "processed 252 of 434 reactions               \n",
      "processed 253 of 434 reactions               \n",
      "processed 254 of 434 reactions               \n",
      "processed 255 of 434 reactions               \n",
      "processed 256 of 434 reactions               \n",
      "processed 257 of 434 reactions               \n",
      "processed 258 of 434 reactions               \n",
      "processed 259 of 434 reactions               \n",
      "processed 260 of 434 reactions               \n",
      "processed 261 of 434 reactions               \n",
      "processed 262 of 434 reactions               \n",
      "processed 263 of 434 reactions               \n"
     ]
    },
    {
     "name": "stdout",
     "output_type": "stream",
     "text": [
      "processed 264 of 434 reactions               \n",
      "processed 265 of 434 reactions               \n",
      "processed 266 of 434 reactions               \n",
      "processed 267 of 434 reactions               \n",
      "processed 268 of 434 reactions               \n",
      "processed 269 of 434 reactions               \n",
      "processed 270 of 434 reactions               \n",
      "processed 271 of 434 reactions               \n",
      "processed 272 of 434 reactions               \n",
      "processed 273 of 434 reactions               \n",
      "processed 274 of 434 reactions               \n",
      "processed 275 of 434 reactions               \n",
      "processed 276 of 434 reactions               \n",
      "processed 277 of 434 reactions               \n",
      "processed 278 of 434 reactions               \n",
      "processed 279 of 434 reactions               \n",
      "processed 280 of 434 reactions               \n",
      "processed 281 of 434 reactions               \n",
      "processed 282 of 434 reactions               \n",
      "processed 283 of 434 reactions               \n",
      "processed 284 of 434 reactions               \n",
      "processed 285 of 434 reactions               \n",
      "processed 286 of 434 reactions               \n",
      "processed 287 of 434 reactions               \n",
      "processed 288 of 434 reactions               \n",
      "processed 289 of 434 reactions               \n",
      "processed 290 of 434 reactions               \n",
      "processed 291 of 434 reactions               \n",
      "processed 292 of 434 reactions               \n",
      "processed 293 of 434 reactions               \n",
      "processed 294 of 434 reactions               \n",
      "processed 295 of 434 reactions               \n",
      "processed 296 of 434 reactions               \n",
      "processed 297 of 434 reactions               \n",
      "processed 298 of 434 reactions               \n",
      "processed 299 of 434 reactions               \n",
      "processed 300 of 434 reactions               \n",
      "processed 301 of 434 reactions               \n",
      "processed 302 of 434 reactions               \n",
      "processed 303 of 434 reactions               \n",
      "processed 304 of 434 reactions               \n",
      "processed 305 of 434 reactions               \n",
      "processed 306 of 434 reactions               \n",
      "processed 307 of 434 reactions               \n",
      "processed 308 of 434 reactions               \n",
      "processed 309 of 434 reactions               \n",
      "processed 310 of 434 reactions               \n",
      "processed 311 of 434 reactions               \n",
      "processed 312 of 434 reactions               \n",
      "processed 313 of 434 reactions               \n",
      "processed 314 of 434 reactions               \n",
      "processed 315 of 434 reactions               \n",
      "processed 316 of 434 reactions               \n",
      "processed 317 of 434 reactions               \n",
      "processed 318 of 434 reactions               \n",
      "processed 319 of 434 reactions               \n",
      "processed 320 of 434 reactions               \n",
      "processed 321 of 434 reactions               \n",
      "processed 322 of 434 reactions               \n",
      "processed 323 of 434 reactions               \n",
      "processed 324 of 434 reactions               \n",
      "processed 325 of 434 reactions               \n",
      "processed 326 of 434 reactions               \n",
      "processed 327 of 434 reactions               \n",
      "processed 328 of 434 reactions               \n",
      "processed 329 of 434 reactions               \n",
      "processed 330 of 434 reactions               \n",
      "processed 331 of 434 reactions               \n",
      "processed 332 of 434 reactions               \n",
      "processed 333 of 434 reactions               \n",
      "processed 334 of 434 reactions               \n",
      "processed 335 of 434 reactions               \n",
      "processed 336 of 434 reactions               \n",
      "processed 337 of 434 reactions               \n",
      "processed 338 of 434 reactions               \n",
      "processed 339 of 434 reactions               \n",
      "processed 340 of 434 reactions               \n",
      "processed 341 of 434 reactions               \n",
      "processed 342 of 434 reactions               \n",
      "processed 343 of 434 reactions               \n",
      "processed 344 of 434 reactions               \n",
      "processed 345 of 434 reactions               \n",
      "processed 346 of 434 reactions               \n",
      "processed 347 of 434 reactions               \n",
      "processed 348 of 434 reactions               \n",
      "processed 349 of 434 reactions               \n",
      "processed 350 of 434 reactions               \n",
      "processed 351 of 434 reactions               \n",
      "processed 352 of 434 reactions               \n",
      "processed 353 of 434 reactions               \n",
      "processed 354 of 434 reactions               \n",
      "processed 355 of 434 reactions               \n",
      "processed 356 of 434 reactions               \n",
      "processed 357 of 434 reactions               \n",
      "processed 358 of 434 reactions               \n",
      "processed 359 of 434 reactions               \n",
      "processed 360 of 434 reactions               \n",
      "processed 361 of 434 reactions               \n",
      "processed 362 of 434 reactions               \n",
      "processed 363 of 434 reactions               \n",
      "processed 364 of 434 reactions               \n",
      "processed 365 of 434 reactions               \n",
      "processed 366 of 434 reactions               \n",
      "processed 367 of 434 reactions               \n",
      "processed 368 of 434 reactions               \n",
      "processed 369 of 434 reactions               \n",
      "processed 370 of 434 reactions               \n",
      "processed 371 of 434 reactions               \n",
      "processed 372 of 434 reactions               \n",
      "processed 373 of 434 reactions               \n",
      "processed 374 of 434 reactions               \n",
      "processed 375 of 434 reactions               \n",
      "processed 376 of 434 reactions               \n",
      "processed 377 of 434 reactions               \n",
      "processed 378 of 434 reactions               \n",
      "processed 379 of 434 reactions               \n",
      "processed 380 of 434 reactions               \n",
      "processed 381 of 434 reactions               \n",
      "processed 382 of 434 reactions               \n",
      "processed 383 of 434 reactions               \n",
      "processed 384 of 434 reactions               \n",
      "processed 385 of 434 reactions               \n",
      "processed 386 of 434 reactions               \n",
      "processed 387 of 434 reactions               \n",
      "processed 388 of 434 reactions               \n",
      "processed 389 of 434 reactions               \n",
      "processed 390 of 434 reactions               \n",
      "processed 391 of 434 reactions               \n",
      "processed 392 of 434 reactions               \n",
      "processed 393 of 434 reactions               \n",
      "processed 394 of 434 reactions               \n",
      "processed 395 of 434 reactions               \n",
      "processed 396 of 434 reactions               \n",
      "processed 397 of 434 reactions               \n",
      "processed 398 of 434 reactions               \n",
      "processed 399 of 434 reactions               \n",
      "processed 400 of 434 reactions               \n",
      "processed 401 of 434 reactions               \n",
      "processed 402 of 434 reactions               \n",
      "processed 403 of 434 reactions               \n",
      "processed 404 of 434 reactions               \n",
      "processed 405 of 434 reactions               \n",
      "processed 406 of 434 reactions               \n",
      "processed 407 of 434 reactions               \n",
      "processed 408 of 434 reactions               \n",
      "processed 409 of 434 reactions               \n",
      "processed 410 of 434 reactions               \n",
      "processed 411 of 434 reactions               \n",
      "processed 412 of 434 reactions               \n",
      "processed 413 of 434 reactions               \n",
      "processed 414 of 434 reactions               \n",
      "processed 415 of 434 reactions               \n",
      "processed 416 of 434 reactions               \n",
      "processed 417 of 434 reactions               \n",
      "processed 418 of 434 reactions               \n",
      "processed 419 of 434 reactions               \n",
      "processed 420 of 434 reactions               \n",
      "processed 421 of 434 reactions               \n",
      "processed 422 of 434 reactions               \n",
      "processed 423 of 434 reactions               \n",
      "processed 424 of 434 reactions               \n",
      "processed 425 of 434 reactions               \n",
      "processed 426 of 434 reactions               \n",
      "processed 427 of 434 reactions               \n",
      "processed 428 of 434 reactions               \n",
      "processed 429 of 434 reactions               \n",
      "processed 430 of 434 reactions               \n",
      "processed 431 of 434 reactions               \n",
      "processed 432 of 434 reactions               \n",
      "processed 433 of 434 reactions               \n",
      "processed 434 of 434 reactions               \n",
      "a test graph undirected static  \n",
      "number of nodes : 360\n",
      "number of edges : 14394\n"
     ]
    }
   ],
   "source": [
    "write_graph(ethospagejob, 'CoReactionGraph')"
   ]
  },
  {
   "cell_type": "markdown",
   "metadata": {
    "slideshow": {
     "slide_type": "slide"
    }
   },
   "source": [
    "## 9.2 Analysis: user co-interaction graph"
   ]
  },
  {
   "cell_type": "code",
   "execution_count": 20,
   "metadata": {
    "slideshow": {
     "slide_type": "fragment"
    }
   },
   "outputs": [
    {
     "name": "stdout",
     "output_type": "stream",
     "text": [
      " \n",
      "    The idea is to generate a graph where:\n",
      "\n",
      "    Nodes: users that either posted, commented or reacted\n",
      "    Edges: Two nodes (users) are connected if one has produced content\n",
      "        (i.e. post or comment), and the other has reacted to that\n",
      "        (i.e. cmmented or reacted to)\n",
      "    \n"
     ]
    }
   ],
   "source": [
    "print(UserCoInteractionGraph.__doc__)"
   ]
  },
  {
   "cell_type": "code",
   "execution_count": 21,
   "metadata": {
    "slideshow": {
     "slide_type": "subslide"
    }
   },
   "outputs": [
    {
     "name": "stdout",
     "output_type": "stream",
     "text": [
      "adding posts (total: 360)\n",
      "adding comments (total: 106)\n",
      "adding reactions (total: 1676)\n",
      "a test graph directed static  \n",
      "number of nodes : 441\n",
      "number of edges : 1782\n"
     ]
    }
   ],
   "source": [
    "write_graph(ethospagejob, 'UserCoInteractionGraph')"
   ]
  },
  {
   "cell_type": "markdown",
   "metadata": {
    "slideshow": {
     "slide_type": "slide"
    }
   },
   "source": [
    "## Gephi time!\n",
    "\n",
    "![](https://gephi.org/css/images/illustrations/home_screenshot.jpg)"
   ]
  },
  {
   "cell_type": "markdown",
   "metadata": {
    "slideshow": {
     "slide_type": "slide"
    }
   },
   "source": [
    "## Rewind!\n",
    "\n",
    "More jobs"
   ]
  },
  {
   "cell_type": "markdown",
   "metadata": {},
   "source": [
    "### 4 + 5 set up manager\n",
    "\n",
    "If you have restarted your Jupyter, run 4 and 5 above."
   ]
  },
  {
   "cell_type": "code",
   "execution_count": 34,
   "metadata": {},
   "outputs": [],
   "source": [
    "mgr = fb_scraper.prodcons.Manager(dict(creds))"
   ]
  },
  {
   "cell_type": "markdown",
   "metadata": {},
   "source": [
    "### 6. Set up jobs"
   ]
  },
  {
   "cell_type": "markdown",
   "metadata": {},
   "source": [
    "<div class=\"alert alert-info\">Insert `node_id='someinterestingid'` inside the parentheses below for the jobs</div>"
   ]
  },
  {
   "cell_type": "code",
   "execution_count": null,
   "metadata": {},
   "outputs": [],
   "source": [
    "myjob1 = fb_scraper.job.PageJob() # provide node_id='2931293812093' inside the parentheses\n",
    "myjob2 = fb_scraper.job.GroupJob() # provide node_id='2931293812093' inside the parentheses\n",
    "mgr.add_job(myjob1)\n",
    "mgr.add_job(myjob2)"
   ]
  },
  {
   "cell_type": "markdown",
   "metadata": {},
   "source": [
    "### 7. Run the jobs"
   ]
  },
  {
   "cell_type": "code",
   "execution_count": null,
   "metadata": {},
   "outputs": [],
   "source": [
    "mgr.start()"
   ]
  },
  {
   "cell_type": "markdown",
   "metadata": {},
   "source": [
    "...wait for the jobs to finish"
   ]
  },
  {
   "cell_type": "markdown",
   "metadata": {},
   "source": [
    "### 8 + 9. Run graph analyses and profit"
   ]
  },
  {
   "cell_type": "code",
   "execution_count": null,
   "metadata": {},
   "outputs": [],
   "source": [
    "write_graph(myjob1, 'CoReactionGraph')\n",
    "write_graph(myjob2, 'UserCoInteractionGraph')"
   ]
  },
  {
   "cell_type": "markdown",
   "metadata": {},
   "source": [
    "### 4. Collect results\n",
    "\n",
    "Profit"
   ]
  }
 ],
 "metadata": {
  "kernelspec": {
   "display_name": "Python 3",
   "language": "python",
   "name": "python3"
  },
  "language_info": {
   "codemirror_mode": {
    "name": "ipython",
    "version": 3
   },
   "file_extension": ".py",
   "mimetype": "text/x-python",
   "name": "python",
   "nbconvert_exporter": "python",
   "pygments_lexer": "ipython3",
   "version": "3.6.2"
  }
 },
 "nbformat": 4,
 "nbformat_minor": 2
}
