{
 "cells": [
  {
   "cell_type": "markdown",
   "metadata": {},
   "source": [
    "# Social media scraping\n",
    "\n",
    "* A summary of what have we done in the past 2 weeks\n",
    "* Making the new, value-added (9.1 + 9.2) graphs with `fb_scraper`\n",
    "* Examples of social media scraping projects\n",
    "* What is on your ignorance map?\n",
    "* The other 5 Netvizz modules"
   ]
  }
 ],
 "metadata": {
  "kernelspec": {
   "display_name": "Python 3",
   "language": "python",
   "name": "python3"
  },
  "language_info": {
   "codemirror_mode": {
    "name": "ipython",
    "version": 3
   },
   "file_extension": ".py",
   "mimetype": "text/x-python",
   "name": "python",
   "nbconvert_exporter": "python",
   "pygments_lexer": "ipython3",
   "version": "3.6.2"
  }
 },
 "nbformat": 4,
 "nbformat_minor": 2
}
