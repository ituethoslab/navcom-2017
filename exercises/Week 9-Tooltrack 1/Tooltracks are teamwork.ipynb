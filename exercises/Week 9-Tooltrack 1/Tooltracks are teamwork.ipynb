{
 "cells": [
  {
   "cell_type": "markdown",
   "metadata": {},
   "source": [
    "# The tooltracks are teamwork\n",
    "\n",
    "The 3-week tooltracks are running in parellel, and different member of your groups will attend different sessions on each of the week\n",
    "\n",
    "That means for your group that\n",
    "\n",
    "* Collectively, make sure your group coordinates it's distributed participation in the tracks\n",
    "* Individually, arrive prepared, and make sure you have something to bring back to your group\n",
    "* Pairwise, consider the *handover* of the track to the next person attending it\n",
    "* Together, help your group members get the most out of the session they will attend next\n",
    "\n",
    "![Superkilen](http://files.guidedanmark.org/files/382/157740_Superkilen_Thomas-Christensen.jpg)"
   ]
  }
 ],
 "metadata": {
  "kernelspec": {
   "display_name": "Python 3",
   "language": "python",
   "name": "python3"
  },
  "language_info": {
   "codemirror_mode": {
    "name": "ipython",
    "version": 3
   },
   "file_extension": ".py",
   "mimetype": "text/x-python",
   "name": "python",
   "nbconvert_exporter": "python",
   "pygments_lexer": "ipython3",
   "version": "3.6.2"
  }
 },
 "nbformat": 4,
 "nbformat_minor": 2
}
