{
 "cells": [
  {
   "cell_type": "markdown",
   "metadata": {
    "slideshow": {
     "slide_type": "slide"
    }
   },
   "source": [
    "# Storytelling with Data 🐉"
   ]
  },
  {
   "cell_type": "markdown",
   "metadata": {
    "slideshow": {
     "slide_type": "fragment"
    }
   },
   "source": [
    "What is a story?\n",
    "\n",
    "* It has beginning, middle and end (Aristotle)\n",
    "* It has protagonist(s) and transformation(s)\n",
    "* It is what culture(s) is made of\n",
    "* It has audience(s)"
   ]
  },
  {
   "cell_type": "markdown",
   "metadata": {
    "slideshow": {
     "slide_type": "slide"
    }
   },
   "source": [
    "## 1. Hans Rosling (RIP)\n",
    "\n",
    "<a href=\"https://www.ted.com/talks/hans_rosling_shows_the_best_stats_you_ve_ever_seen\">\n",
    "    <img src=\"rosling_at_ted-the_best_stats_youve_ever_seen.png\" style='width: 50%; float:left;' />\n",
    "</a>\n",
    "\n",
    "<a href=\"https://www.ted.com/talks/hans_rosling_and_the_magic_washing_machine\">\n",
    "    <img src=\"rosling_at_ted-the_magic_washing_machine.png\" style='width: 50%; float: left;' />\n",
    "</a> "
   ]
  },
  {
   "cell_type": "markdown",
   "metadata": {
    "slideshow": {
     "slide_type": "fragment"
    }
   },
   "source": [
    "Enjoy him [destroy ☠ DR2 *Deadline* reporter](https://www.youtube.com/watch?v=xYnpJGaMiXo)"
   ]
  },
  {
   "cell_type": "markdown",
   "metadata": {
    "slideshow": {
     "slide_type": "subslide"
    }
   },
   "source": [
    "He was a phenomenal public figure, and sadly passed away in early 2017.\n",
    "\n",
    "Two tribute/obituary podcasts worth listening to\n",
    "\n",
    "* [*Hans Rosling - the Extraordinary Life of a Statistical Guru*](http://www.bbc.co.uk/programmes/p04sbvlt) in BBC's *More or Less*\n",
    "* [*A Tribute to Hans Rosling*](http://datastori.es/92-a-tribute-to-hans-rosling/) in *Data Stories*"
   ]
  },
  {
   "cell_type": "markdown",
   "metadata": {
    "slideshow": {
     "slide_type": "slide"
    }
   },
   "source": [
    "## 2. Cole Nussbaumer Knaflic\n",
    "\n",
    "![Knaflic](https://pbs.twimg.com/profile_images/595043219508834304/KwlJt1Fr_400x400.jpg)\n",
    "\n",
    "[Knaflic](https://twitter.com/storywithdata)'s [website *storytelling with data*](http://www.storytellingwithdata.com/) has resources."
   ]
  },
  {
   "cell_type": "markdown",
   "metadata": {
    "slideshow": {
     "slide_type": "slide"
    }
   },
   "source": [
    "## 3. Exercise!!\n",
    "\n",
    "What did Cole teach us?"
   ]
  },
  {
   "cell_type": "markdown",
   "metadata": {
    "slideshow": {
     "slide_type": "fragment"
    }
   },
   "source": [
    "Build a story around your project."
   ]
  },
  {
   "cell_type": "markdown",
   "metadata": {
    "slideshow": {
     "slide_type": "fragment"
    }
   },
   "source": [
    "Tell it to other group, then rotate groups"
   ]
  },
  {
   "cell_type": "markdown",
   "metadata": {
    "slideshow": {
     "slide_type": "fragment"
    }
   },
   "source": [
    "Tell about the complexity too"
   ]
  },
  {
   "cell_type": "markdown",
   "metadata": {
    "slideshow": {
     "slide_type": "slide"
    }
   },
   "source": [
    "# Finish the NavCom 2017 story!"
   ]
  }
 ],
 "metadata": {
  "celltoolbar": "Slideshow",
  "kernelspec": {
   "display_name": "Python 3",
   "language": "python",
   "name": "python3"
  },
  "language_info": {
   "codemirror_mode": {
    "name": "ipython",
    "version": 3
   },
   "file_extension": ".py",
   "mimetype": "text/x-python",
   "name": "python",
   "nbconvert_exporter": "python",
   "pygments_lexer": "ipython3",
   "version": "3.6.2"
  }
 },
 "nbformat": 4,
 "nbformat_minor": 2
}
