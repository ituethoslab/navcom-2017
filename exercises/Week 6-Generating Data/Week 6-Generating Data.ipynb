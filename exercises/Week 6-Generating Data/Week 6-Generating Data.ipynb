{
 "cells": [
  {
   "cell_type": "markdown",
   "metadata": {},
   "source": [
    "## 0. Warmup and introduction\n",
    "\n",
    "Sum-up from last week and Tuesday’s lecturers \n",
    "\n",
    "Goal for today is to set up a query running a TCAT for your project.\n",
    "The data produced can contribute to a possible visualization for the hand-in. "
   ]
  },
  {
   "cell_type": "markdown",
   "metadata": {
    "slideshow": {
     "slide_type": "slide"
    }
   },
   "source": [
    "## 1. What is an API?\n",
    "\n",
    "No, not an IPA even though it is Little-Friday. *Application Programming Interface* (API) is a service allowing software to exchange information with another piece of software. These services are requests ordering this information e.g. a request for a webpage.\n",
    "\n",
    "When you type \"www.twitter.com\" as a URL, your browser sends a request to Twitter’s remote server. Once your browser receives the response, it can interpret the code and display the page. To the browser, Twitter’s server is an API.\n",
    "\n",
    "For example, here is Twitter bot which posts random emoji star fields [@tiny_star_field](https://twitter.com/tiny_star_field). Somebody made another bot [@tiny_astro_naut](https://twitter.com/tiny_astro_naut) which [replies by adding a space rocket](https://twitter.com/tiny_astro_naut/status/913032959439097856), and yet somebody else made a third bot which adds a mission control room. Yeiiii! 🚀\n",
    "\n",
    "![](robochat.png)\n",
    "\n",
    "Programming! Cute! Space!!!\n",
    "\n",
    "A more tangible example of an API could be the online travel service Momondo.com. You use an API to request a specific result of possible flights using Momondo’s predetermined variables. In this case, you have the possibility to order Momondo to interact with various airline APIs and display the results to you. \n",
    "\n",
    "Try in your own words to explain what an API is to the person next to you and give an example of this."
   ]
  },
  {
   "cell_type": "markdown",
   "metadata": {
    "slideshow": {
     "slide_type": "slide"
    }
   },
   "source": [
    "## 2. Introduction to TCAT\n",
    "\n",
    "Last week during the guest panel, Asger and Backscatter showed a result of a specific query set up for scraping a Facebook page using an API. They had pre-set the list of tracking criteria consisting of single or multiple keywords. Today we are going to scrape Twitter.\n",
    "\n",
    "[Twitter Capture and Analysis Toolset](https://github.com/digitalmethodsinitiative/dmi-tcat) (TCAT) is a tool to capture and analyze tweets developed by Eric Borra at the Digital Method Initiative, University of Amsterdam. TCAT listens for a number of defined hashtags and text string which are stored and subsequently analyzed through the tool.\n",
    "\n",
    "NB! TCAT looks at future, not history.\n",
    "\n",
    "In your exercise rooms, we’ll do a walkthrough of TCAT user interface in plenum. You can follow the steps or explore further [at ETHOS-Lab website](https://ethos.itu.dk/tcat/) where you can also find the link for the [NavCom TCAT](http://navcom-1.itu.dk/dmi-tcat/analysis/) running.\n",
    "\n",
    "TA choose a topic – not too big, since it will take a long time. Please find a dataset where the server has been down so the students can see how it looks like."
   ]
  },
  {
   "cell_type": "markdown",
   "metadata": {
    "slideshow": {
     "slide_type": "slide"
    }
   },
   "source": [
    "## 3. Introduction to query design with TCAT\n",
    "\n",
    "For your group to get a good result some considerations need to be done:\n",
    "\n",
    "* Limiting and evaluating – browse Twitter related to your topic and consider what hashtags are used when tweeting about the given matter. What are you asking when browsing?\n",
    "* Be specific - When searching for phrases like ‘big data’ the query will capture any of the words. \n",
    "* Test the tweets - What phrases are being used when looking for your project topic in other media?\n",
    "* Predict the ‘future’ - What conferences are there in the future regarding your topic, do they have a hashtag?"
   ]
  },
  {
   "cell_type": "markdown",
   "metadata": {
    "slideshow": {
     "slide_type": "subslide"
    }
   },
   "source": [
    "### TCAT query language\n",
    "\n",
    "<div class=\"alert alert-info\">\n",
    "<p>You can specify a list of tracking criteria consisting of single or multiple keyword queries, hashtags, and specific phrases. Each query should be separated by a comma. If you want to track a literal phrase, encapsulate it in single quotes (').</p>\n",
    "\n",
    "<p>DMI-TCAT allows for three types of 'track' queries:</p>\n",
    "\n",
    "<ol>\n",
    "    <li><strong>a single word/hashtag</strong>. Consider that Twitter does not do partial matching on words, i.e. <tt>[twitter]</tt> will get tweets with <tt>[twitter]</tt>, <tt>[#twitter]</tt> but not <tt>[twitteraddiction]</tt></li>\n",
    "    \n",
    "<li><strong>two or more words</strong>: works like an AND operator, i.e. <tt>[global warming]</tt> will find tweets that have both <tt>[global]</tt> and <tt>[warming]</tt> in any position in the tweet, e.g. <tt>\"life is global but not warming\"</tt></li>\n",
    "    \n",
    "<li><strong>exact phrases</strong>: <tt>['global warming']</tt> will get only tweets with the exact phrase. Beware, however that due to how the streaming API works, tweets are captured in the same way as in 2, but tweets that do not match the exact phrase are thrown away. This means that you will request many more tweets from the Twitter API than you will see in your query bin - thus increasing the possibility that you will hit a rate limit. E.g. if you specify a query like <tt>['are we']</tt> all tweets matching both <tt>[are]</tt> and <tt>[we]</tt> are retrieved, while DMI-TCAT only retains those with the exact phrase <tt>['are we']</tt></li>\n",
    "</ol>\n",
    "</div>\n",
    "\n",
    "For example:\n",
    "\n",
    "    globalwarming,global warming,'climate change'"
   ]
  },
  {
   "cell_type": "markdown",
   "metadata": {
    "slideshow": {
     "slide_type": "slide"
    }
   },
   "source": [
    "## 4. Set up a capture for your project\n",
    "\n",
    "### 4.1 Design your queries\n",
    "\n",
    "What do you consider? Why do you reject some words? How do people on Twitter speak about your topic e.g. specific hashtags? What do you expect to capture and how? What might go wrong/ be too broad? TCAT is about Twitter, what does that mean for your project?\n",
    "\n",
    "* Do fieldwork\n",
    "* Select hashtags\n",
    "* 5-10 hashtags\n",
    "\n",
    "Remember to take notes of your design process in your lab notebooks.\n",
    "\n",
    "See above for a description of the TCAT query language.\n",
    "\n",
    "### 4.2 TAs will set your queries up on TCAT\n",
    "\n",
    "Bring your queries to the TAs at 11:30 the latest.\n",
    "\n",
    "TAs will set up your queries on TCAT and will start capturing today for you to follow your data today. Your query will be called `NavCom2017_groupno_topic`."
   ]
  }
 ],
 "metadata": {
  "kernelspec": {
   "display_name": "Python 3",
   "language": "python",
   "name": "python3"
  },
  "language_info": {
   "codemirror_mode": {
    "name": "ipython",
    "version": 3
   },
   "file_extension": ".py",
   "mimetype": "text/x-python",
   "name": "python",
   "nbconvert_exporter": "python",
   "pygments_lexer": "ipython3",
   "version": "3.6.2"
  }
 },
 "nbformat": 4,
 "nbformat_minor": 2
}
